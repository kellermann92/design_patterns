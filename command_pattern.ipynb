{
 "cells": [
  {
   "cell_type": "markdown",
   "metadata": {},
   "source": [
    "-----------------------\n",
    "# **Source**\n",
    "\n",
    "Content from [Learning Python Design Patterns (Chetan Giridhar, 2016)](https://www.amazon.com.br/dp/B018XYKNOM/ref=dp-kindle-redirect?_encoding=UTF8&btkr=1).\n",
    "\n",
    "-----------------------"
   ]
  },
  {
   "cell_type": "markdown",
   "metadata": {},
   "source": [
    "--------\n",
    "# **Command pattern**\n",
    "\n",
    "- Is another kind of  *behavioral pattern*.\n",
    "- In this pattern, an object an object encapsulates all information needed to perform an action or trigger an event at a later time. This information includes the following:\n",
    "    - The method name.\n",
    "    - An object that owns the method.\n",
    "    - Values for method parameters.\n",
    "    \n",
    "- Consider a use case for an installation wizard. A typical wizard may contain multiple phases or screens that capture user's preferences. While the user browses through the wizard, s/he makes certain choices. This is the command pattern.\n",
    "    - A wizard is first launched with an object called **Command**.\n",
    "    - The preferences or choices made by the user in multiple phases of the wizard are then stored in the **Command** object.\n",
    "    - When the user click on **Finish** button, the **Command** object runs an *execute()* method which considers all the stored choices and runs the appropriate intallation procedure.\n",
    "    \n",
    "- In general, the command pattern work as follows:\n",
    "    - A **Command** object knows about the **Receiver** objects and invokes a method of the **Receiver** object.\n",
    "    - Values for parameters of the receiver method are stored in the **Command** object.\n",
    "    - The invoker knows how to execute a command.\n",
    "    - The client creates a **Command** object and sets its receiver.\n",
    "    \n",
    " - The main intentions of the command pattern are:\n",
    "    - Encapsulating a request as an object.\n",
    "    - Allowing the parameterization of clients with different requests.\n",
    "    - Allowing to save the requests in a queue.\n",
    "    - Providing an object-oriented callback\n",
    "    \n",
    "- The main applications of this kind of pattern are common in the following scenarios:\n",
    "    - Parameterizing objects depending on the action to be performed\n",
    "    - Adding actions to a queue and executing requests at different points.\n",
    "    - Creating a structure for high-level operations that are based on smaller operations.;"
   ]
  },
  {
   "cell_type": "markdown",
   "metadata": {},
   "source": [
    "--------------------------------\n",
    "# **Implementation**"
   ]
  },
  {
   "cell_type": "code",
   "execution_count": 1,
   "metadata": {
    "execution": {
     "iopub.execute_input": "2021-02-15T16:13:44.285189Z",
     "iopub.status.busy": "2021-02-15T16:13:44.284808Z",
     "iopub.status.idle": "2021-02-15T16:13:44.313186Z",
     "shell.execute_reply": "2021-02-15T16:13:44.310659Z",
     "shell.execute_reply.started": "2021-02-15T16:13:44.285145Z"
    }
   },
   "outputs": [
    {
     "name": "stdout",
     "output_type": "stream",
     "text": [
      "Copying binaries from python.gzip to /usr/bin/.\n",
      "No operation.\n"
     ]
    }
   ],
   "source": [
    "class Wizard():\n",
    "    def __init__(self, src, rootdir):\n",
    "        self.choices = []\n",
    "        self.rootdir = rootdir\n",
    "        self.src = src\n",
    "        \n",
    "    def preferences(self, command):\n",
    "        self.choices.append(command)\n",
    "        \n",
    "    def execute(self):\n",
    "        for choice in self.choices:\n",
    "            if list(choice.values())[0]:\n",
    "                print(f'Copying binaries from {self.src} to {self.rootdir}.')\n",
    "            else:\n",
    "                print('No operation.')\n",
    "                \n",
    "if __name__ == '__main__':\n",
    "        ## Client code:\n",
    "    wizard = Wizard('python.gzip','/usr/bin/')\n",
    "        \n",
    "    ## Users chooses to install python only:\n",
    "    wizard.preferences({'python':True})\n",
    "    wizard.preferences({'java': False})\n",
    "        \n",
    "    wizard.execute()\n",
    "        "
   ]
  },
  {
   "cell_type": "markdown",
   "metadata": {},
   "source": [
    "------------------\n",
    "## **Command pattern UML**\n",
    "\n",
    "- The command pattern has these five main participants:\n",
    "    - **Command:** declares an interface to execute an operation\n",
    "    - **ConcreteCommand:** defines a binding between the **Receiver** object and action.\n",
    "    - **Receiver:** creates a **ConcreteCommand** object and sets its receiver\n",
    "    - **Invoker:** asks **ConcreteCommand** to carry out the request.\n",
    "    - **Client:** knows how to perform the operations associated with carrying out the request.\n",
    "    \n",
    "![Command pattern UML](images/command_pattern.jpg)\n",
    "\n",
    "- The flow is pretty straightforward:\n",
    "    - The client asks for a command to be executed.\n",
    "    - The invoker takes the command, ancapsulates it and places it in a queue.\n",
    "    - The **ConcreteCommand** class is in charge of the requested command and asks the receiver to perform the given action.\n",
    "\n",
    "- The following code example helps to understand the pattern with all participants involved:"
   ]
  },
  {
   "cell_type": "code",
   "execution_count": 2,
   "metadata": {
    "execution": {
     "iopub.execute_input": "2021-02-15T16:13:44.319441Z",
     "iopub.status.busy": "2021-02-15T16:13:44.317897Z",
     "iopub.status.idle": "2021-02-15T16:13:44.377381Z",
     "shell.execute_reply": "2021-02-15T16:13:44.368317Z",
     "shell.execute_reply.started": "2021-02-15T16:13:44.319312Z"
    }
   },
   "outputs": [
    {
     "name": "stdout",
     "output_type": "stream",
     "text": [
      "Receiver action.\n"
     ]
    }
   ],
   "source": [
    "from abc import ABCMeta, abstractmethod\n",
    "\n",
    "\n",
    "class Command(metaclass=ABCMeta):\n",
    "    def __init__(self, recv):\n",
    "        self.recv = recv\n",
    "        \n",
    "    def execute(self):\n",
    "        pass\n",
    "    \n",
    "class ConcreteCommand(Command):\n",
    "    def __init__(self, recv):\n",
    "        self.recv = recv\n",
    "        \n",
    "    def execute(self):\n",
    "        self.recv.action()\n",
    "    \n",
    "class Receiver:\n",
    "    def action(self):\n",
    "        print('Receiver action.')\n",
    "        \n",
    "class Invoker:\n",
    "    def command(self, cmd):\n",
    "        self.cmd = cmd\n",
    "        \n",
    "    def execute(self):\n",
    "        self.cmd.execute()\n",
    "        \n",
    "if __name__ == '__main__':\n",
    "    recv = Receiver()\n",
    "    cmd = ConcreteCommand(recv)\n",
    "    invoker = Invoker()\n",
    "    invoker.command(cmd)\n",
    "    invoker.execute()"
   ]
  },
  {
   "cell_type": "markdown",
   "metadata": {},
   "source": [
    "--------\n",
    "# **Command pattern in real world**\n",
    "\n",
    "- In this example we will take up a stock exchange to demonstrate the implementation fot this pattern.\n",
    "- A stock exchange works more or less like this:\n",
    "    - A user create orders to buy or sell stocks. But the client don't buy or sell those stocks, you'll need an agent or broker who plays the intermediary between you and the stock exchange.\n",
    "    - The agent is responsible for taking the client's request to the stock exchange and getting the work done. Imagine that you want to sell a stock on monday morning when the exchange open up.\n",
    "    - You can still make the request to sell stock on sunday night to your agent even though the exchange is not open yet.\n",
    "    - The agent then queues your request to be executed on monday morning when the exchange is open for the trading.\n",
    "    \n",
    "- This is a classical case for the command pattern.\n",
    "    \n",
    "### **Design considerations:**\n",
    "- Four main participants acts here: **Command**, **ConcreteCommand**, **Invoker** and **Receiver**.\n",
    "    - In the stock exchange scenario, we should create an **Order** interface that defines the order that a client places. This is the **Command** object. It will be an interface to implement **ConcreteCommand**.\n",
    "    - The **ConcreteCommand** classes buy or sell a stock. The *execute()* abstract method will be defined here to execute the **Order** class.\n",
    "    - A class also needs to be defined for the stock exchange. \n",
    "    - We should define the **Receiver** class that will actually execute the trade and the agent (know as the invoker) that invokes the order and gets it executed by the receiver.\n",
    "\n",
    "- The following code represents the abstract class **Order** and the abstract method *execute()*:"
   ]
  },
  {
   "cell_type": "code",
   "execution_count": 3,
   "metadata": {
    "execution": {
     "iopub.execute_input": "2021-02-15T16:13:44.388195Z",
     "iopub.status.busy": "2021-02-15T16:13:44.386691Z",
     "iopub.status.idle": "2021-02-15T16:13:44.421628Z",
     "shell.execute_reply": "2021-02-15T16:13:44.415611Z",
     "shell.execute_reply.started": "2021-02-15T16:13:44.388003Z"
    }
   },
   "outputs": [],
   "source": [
    "from abc import ABCMeta, abstractmethod\n",
    "\n",
    "class Order(metaclass=ABCMeta):\n",
    "    \n",
    "    @abstractmethod\n",
    "    def execute(self):\n",
    "        pass"
   ]
  },
  {
   "cell_type": "markdown",
   "metadata": {},
   "source": [
    "### **ConcreteCommand  design:**\n",
    "\n",
    "- We will have two main concrete classes: **BuyStockOrder** and **SellStrockOrder** that implement the **Order** interface.\n",
    "- Both classes use the object of the stock trading system so that they can define appropriate actions for the trading system.\n",
    "- The *execute()* method of each of these **ConcreteCommand** classes uses the stock trade object to execute the actions to buy and sell\n"
   ]
  },
  {
   "cell_type": "code",
   "execution_count": 4,
   "metadata": {
    "execution": {
     "iopub.execute_input": "2021-02-15T16:13:44.426951Z",
     "iopub.status.busy": "2021-02-15T16:13:44.425396Z",
     "iopub.status.idle": "2021-02-15T16:13:44.461174Z",
     "shell.execute_reply": "2021-02-15T16:13:44.456936Z",
     "shell.execute_reply.started": "2021-02-15T16:13:44.426637Z"
    }
   },
   "outputs": [],
   "source": [
    "class BuyStockOrder(Order):\n",
    "    def __init__(self, stock):\n",
    "        self.stock = stock\n",
    "        \n",
    "    def execute(self):\n",
    "        self.stock.buy()\n",
    "        \n",
    "class SellStockOrder(Order):\n",
    "    def __init__(self, stock):\n",
    "        self.stock = stock\n",
    "        \n",
    "    def execute(self):\n",
    "        self.stock.sell()\n",
    "    "
   ]
  },
  {
   "cell_type": "markdown",
   "metadata": {},
   "source": [
    "### **Receiver design:** \n",
    "\n",
    "- The **StockTrade** represents the **Receiver** object in this example. and defines multiple methods (actions) to execute the orders placed by **ConcreteCommand** objects.\n",
    "\n",
    "- The *buy()* and *sell()* methods are defined by the receiver which are called by **BuyStockOrder** and **SellStockOrder** respectively to buy or sell the stock in the exchange;"
   ]
  },
  {
   "cell_type": "code",
   "execution_count": 5,
   "metadata": {
    "execution": {
     "iopub.execute_input": "2021-02-15T16:13:44.468877Z",
     "iopub.status.busy": "2021-02-15T16:13:44.468005Z",
     "iopub.status.idle": "2021-02-15T16:13:44.481076Z",
     "shell.execute_reply": "2021-02-15T16:13:44.478601Z",
     "shell.execute_reply.started": "2021-02-15T16:13:44.468722Z"
    }
   },
   "outputs": [],
   "source": [
    "class StockTrade:\n",
    "    def buy(self):\n",
    "        print('You will buy stocks.')\n",
    "        \n",
    "    def sell(self):\n",
    "        print('You will sell stocks.')\n",
    "        \n"
   ]
  },
  {
   "cell_type": "markdown",
   "metadata": {},
   "source": [
    "### **Invoker design**\n",
    "- The **Agent** class is the invoker.\n",
    "- **Agent** ins the intermediary between the client and the **StockExchange** and executes the orders placed by the client.\n",
    "- Agent defines a data member, *\\_\\_orderQueue* (a list) that acts as a queue. Any new orders placed by the client are added to the queue.\n",
    "- The *placeOrder()* method of **Agent** is responsible for queuing the orders and also to execute them."
   ]
  },
  {
   "cell_type": "code",
   "execution_count": 6,
   "metadata": {
    "execution": {
     "iopub.execute_input": "2021-02-15T16:13:44.484161Z",
     "iopub.status.busy": "2021-02-15T16:13:44.483429Z",
     "iopub.status.idle": "2021-02-15T16:13:44.498874Z",
     "shell.execute_reply": "2021-02-15T16:13:44.493726Z",
     "shell.execute_reply.started": "2021-02-15T16:13:44.484095Z"
    }
   },
   "outputs": [],
   "source": [
    "class Agent:\n",
    "    def __init__(self):\n",
    "        self.__orderQueue = []\n",
    "        \n",
    "    def placeOrder(self, order):\n",
    "        self.__orderQueue.append(order)\n",
    "        order.execute()"
   ]
  },
  {
   "cell_type": "markdown",
   "metadata": {},
   "source": [
    "### Client design:\n",
    "- The client first sets its receiver, the **StockTrade** class.\n",
    "- It creates orders to buy and sell stocks with **BuyStockOrder** and **SellStockOrder** (**ConcreteCommand**) that executes the action on **StockTrade**.\n",
    "- The invoker objet is created by instantiating the **Agent** class.\n",
    "- The *placeOrder()* method of **Agent** is used to get the orders that the client places.\n"
   ]
  },
  {
   "cell_type": "code",
   "execution_count": 7,
   "metadata": {
    "execution": {
     "iopub.execute_input": "2021-02-15T16:13:44.504362Z",
     "iopub.status.busy": "2021-02-15T16:13:44.503625Z",
     "iopub.status.idle": "2021-02-15T16:13:44.516486Z",
     "shell.execute_reply": "2021-02-15T16:13:44.515084Z",
     "shell.execute_reply.started": "2021-02-15T16:13:44.504309Z"
    }
   },
   "outputs": [
    {
     "name": "stdout",
     "output_type": "stream",
     "text": [
      "You will buy stocks.\n",
      "You will sell stocks.\n"
     ]
    }
   ],
   "source": [
    "if __name__ == '__main__':\n",
    "    # Client\n",
    "    stock = StockTrade()\n",
    "    buyStock = BuyStockOrder(stock)\n",
    "    sellStock = SellStockOrder(stock)\n",
    "    \n",
    "    # Invoker\n",
    "    agent = Agent()\n",
    "    agent.placeOrder(buyStock)\n",
    "    agent.placeOrder(sellStock)"
   ]
  },
  {
   "cell_type": "markdown",
   "metadata": {},
   "source": [
    "---\n",
    "# **How is it used?**\n",
    "\n",
    "- Redo or rollback operations:\n",
    "    - While implementing the rollback or redo operations, developers can do two different things: take a snapshot of the system and revert to this snapshot.\n",
    "    - With command pattern you can store te sequence of commands and when asked for a redo you rerun the same actions.\n",
    "    \n",
    "- Asynchronous task execution:\n",
    "    - In distributed systems we often need the facility to perform the asynchronous execution of tasks so that the core service is never blocked in case of more requests\n",
    "    - In this kind of pattern, the invoker object can maintain a queue of requests and send these thasks to the receiver, so they can be acted on independent of the main application thread."
   ]
  },
  {
   "cell_type": "markdown",
   "metadata": {
    "execution": {
     "iopub.execute_input": "2021-02-14T17:53:55.598272Z",
     "iopub.status.busy": "2021-02-14T17:53:55.598011Z",
     "iopub.status.idle": "2021-02-14T17:53:55.608713Z",
     "shell.execute_reply": "2021-02-14T17:53:55.607101Z",
     "shell.execute_reply.started": "2021-02-14T17:53:55.598236Z"
    }
   },
   "source": [
    "---\n",
    "# **Advantages and disadvantages**\n",
    "\n",
    "- **<font color = blue> Advantages: </font>**\n",
    "    - It decouples the classes that invoke the operation from the object that knows how to execute the operation.\n",
    "    - It allows you to create a sequence of commands by providing a queue system.\n",
    "    - Extensions to add a new command is easy and can be done without changing the existing code.\n",
    "    - You can also define a rollback system with the command pattern.\n",
    "\n",
    "- **<font color = red> Advantages: </font>**\n",
    "    - There are a high number of classes and objects working togeter to achieve a goal. Application developers need to be careful developing these classes correctly.\n",
    "    \n",
    "    - Every individual command is a **ConcreteCmmand** class that increases the volume of classes for imlementation and maintenance."
   ]
  },
  {
   "cell_type": "markdown",
   "metadata": {},
   "source": [
    "---\n",
    "# **FAQ**\n",
    "\n",
    "**Q1** Can there be no **Receiver** and **ConcreteCommand** to implement an execute method?\n",
    "- Yes. Many software applications use the ommand pattern in this way. The only thing to note here is the interaction between the invoker and receiver. If the receiver is not defined, the level of decoupling goes down. Moreover, the facility to parameterize commands is lost.\n",
    "\n",
    "**Q2** What data structure do I use to implement the queue mechanism in the invoker object?\n",
    "- In the stock exchange example that we studied we used a list, however the pattern talks about a stack implementation that is really helpful in case of redo/rollback development."
   ]
  }
 ],
 "metadata": {
  "kernelspec": {
   "display_name": "Python 3",
   "language": "python",
   "name": "python3"
  },
  "language_info": {
   "codemirror_mode": {
    "name": "ipython",
    "version": 3
   },
   "file_extension": ".py",
   "mimetype": "text/x-python",
   "name": "python",
   "nbconvert_exporter": "python",
   "pygments_lexer": "ipython3",
   "version": "3.8.3"
  }
 },
 "nbformat": 4,
 "nbformat_minor": 4
}
