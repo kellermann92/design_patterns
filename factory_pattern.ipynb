{
 "cells": [
  {
   "cell_type": "markdown",
   "metadata": {},
   "source": [
    "-----------------------\n",
    "# **Source**\n",
    "\n",
    "Content from [Learning Python Design Patterns (Chetan Giridhar, 2016)](https://www.amazon.com.br/dp/B018XYKNOM/ref=dp-kindle-redirect?_encoding=UTF8&btkr=1).\n",
    "\n",
    "-----------------------"
   ]
  },
  {
   "cell_type": "markdown",
   "metadata": {},
   "source": [
    "-----------------------\n",
    "# **Factory pattern**\n",
    "\n",
    "- In this design pattern we use a class to create objects. The idea here is to loose coupling in which object cration can be independent of the class implementation.\n",
    "\n",
    "- The client here does not need to be aware of the class that creates the object that is being utilized by the client. In fact, the client only needs to know the interface, methods and parameters needed to create the desired object. \n",
    "\n",
    "- Adding classes to the factory to create new types of objects can be easily done without changing the code. \n",
    "    - <font color= red> **Remember: change code already done is not a good idea in OOP**. Create simple methods and classes. Avoid complexity. Keep in mind the Zen of Python </font>"
   ]
  },
  {
   "cell_type": "code",
   "execution_count": 1,
   "metadata": {
    "execution": {
     "iopub.execute_input": "2021-01-25T20:16:51.878883Z",
     "iopub.status.busy": "2021-01-25T20:16:51.877951Z",
     "iopub.status.idle": "2021-01-25T20:16:51.904159Z",
     "shell.execute_reply": "2021-01-25T20:16:51.893898Z",
     "shell.execute_reply.started": "2021-01-25T20:16:51.878825Z"
    }
   },
   "outputs": [
    {
     "name": "stdout",
     "output_type": "stream",
     "text": [
      "The Zen of Python, by Tim Peters\n",
      "\n",
      "Beautiful is better than ugly.\n",
      "Explicit is better than implicit.\n",
      "Simple is better than complex.\n",
      "Complex is better than complicated.\n",
      "Flat is better than nested.\n",
      "Sparse is better than dense.\n",
      "Readability counts.\n",
      "Special cases aren't special enough to break the rules.\n",
      "Although practicality beats purity.\n",
      "Errors should never pass silently.\n",
      "Unless explicitly silenced.\n",
      "In the face of ambiguity, refuse the temptation to guess.\n",
      "There should be one-- and preferably only one --obvious way to do it.\n",
      "Although that way may not be obvious at first unless you're Dutch.\n",
      "Now is better than never.\n",
      "Although never is often better than *right* now.\n",
      "If the implementation is hard to explain, it's a bad idea.\n",
      "If the implementation is easy to explain, it may be a good idea.\n",
      "Namespaces are one honking great idea -- let's do more of those!\n"
     ]
    }
   ],
   "source": [
    "import this"
   ]
  },
  {
   "cell_type": "markdown",
   "metadata": {},
   "source": [
    "-----------------------\n",
    "## Simple factory:\n",
    "   ![Simple Factory UML](images/simple_factory.jpg)\n",
    "\n",
    "\n",
    "- **Main idea:** allows interfaces to create objects without exposing the object creation logic."
   ]
  },
  {
   "cell_type": "code",
   "execution_count": 2,
   "metadata": {
    "execution": {
     "iopub.execute_input": "2021-01-25T20:16:51.913666Z",
     "iopub.status.busy": "2021-01-25T20:16:51.912432Z",
     "iopub.status.idle": "2021-01-25T20:16:58.909614Z",
     "shell.execute_reply": "2021-01-25T20:16:58.906462Z",
     "shell.execute_reply.started": "2021-01-25T20:16:51.913592Z"
    }
   },
   "outputs": [
    {
     "name": "stdin",
     "output_type": "stream",
     "text": [
      "Dog or Cat? Cat\n"
     ]
    },
    {
     "name": "stdout",
     "output_type": "stream",
     "text": [
      "Meow! Meow!\n"
     ]
    }
   ],
   "source": [
    "from abc import ABCMeta, abstractmethod\n",
    "\n",
    "class Animal(metaclass = ABCMeta):\n",
    "    @abstractmethod\n",
    "    def do_say(self):\n",
    "        pass\n",
    "\n",
    "    \n",
    "class Dog(Animal):\n",
    "    def do_say(self):\n",
    "        print('Bark! Bark!')\n",
    "\n",
    "class Cat(Animal):\n",
    "    def do_say(self):\n",
    "        print('Meow! Meow!')\n",
    "        \n",
    "# Forest Factory:\n",
    "class ForestFactory(object):\n",
    "    def make_sound(self, object_type):\n",
    "        return eval(object_type)().do_say()\n",
    "    \n",
    "# Client code:\n",
    "if __name__ == '__main__':\n",
    "    ff = ForestFactory()\n",
    "    animal = input('Dog or Cat?')\n",
    "    ff.make_sound(animal)"
   ]
  },
  {
   "cell_type": "markdown",
   "metadata": {},
   "source": [
    "----------------------------\n",
    "# **The factory method pattern**\n",
    "\n",
    "- We define an interface to create objects, but instead of the factory being responsible for the object creation, the responsibility is deferred to the subclass that decides the class to be instantiated.\n",
    "- The factory method creation is throught inheritance and not through instantiation.\n",
    "- The factory method makes the design more customizable. It can return the same instance or subclass rather than an object of a certain type (as in a simple factory method).\n",
    "\n",
    "   ![Factory Method UML](images/factory_method.jpg)\n",
    "   \n",
    "\n",
    "- In the preceding UML diagram we have the abstract class *Creator* that contains the *factoryMethod()*, which has the responsibility of creating objects of a certain type. The *ConcreteCreator* class has other *factoryMethod()* that implements the *Creator* abstract class, and this method can change the created object at runtime.\n",
    "\n",
    "- *ConcreteCreator* creates a *ConcreteProduct* and makes sure that the object it creates implements the *Product* class and provides implementation for all the methods in *Product* interface.\n",
    "\n",
    "- **TLDR;** *factoryMethod* from *Creator* interface and the *ConcreteCreator* class decides which subclass of *Product* to create. Thus, the Factory Method Pattern defines an interface to create an object, but defers the decision **on** which class to instantiate to its subclasses."
   ]
  },
  {
   "cell_type": "markdown",
   "metadata": {},
   "source": [
    "----------------------\n",
    "# **Implementation**\n",
    "\n",
    "- Consider an social network profile. For each profile we will have specific sessions depending on the kind of social network and the type of user. Think about LinkedIn profile vs. Facebook profile.\n",
    "\n",
    "- **Taking a look at the implementation:**\n",
    "    - We start defining the *Product* interface. We create a *Section* abstract class that defines how a section will be. We will keep it very simple and provide an abstract method *describe()*.\n",
    "    \n",
    "    - Then we create multiple *ConcreteProduct* classes such as *PersonalSection*, *AlbumSection*, *PatentSection* and *PublicationSection*. These classes implement the *describe()* abstract method and print their respective section names."
   ]
  },
  {
   "cell_type": "code",
   "execution_count": 3,
   "metadata": {
    "execution": {
     "iopub.execute_input": "2021-01-25T20:16:58.924299Z",
     "iopub.status.busy": "2021-01-25T20:16:58.921239Z",
     "iopub.status.idle": "2021-01-25T20:16:58.959995Z",
     "shell.execute_reply": "2021-01-25T20:16:58.956509Z",
     "shell.execute_reply.started": "2021-01-25T20:16:58.923890Z"
    }
   },
   "outputs": [],
   "source": [
    "from abc import ABCMeta, abstractmethod\n",
    "\n",
    "class Section(metaclass=ABCMeta):\n",
    "    @abstractmethod\n",
    "    def describe(self):\n",
    "        pass\n",
    "    \n",
    "    \n",
    "    \n",
    "# ConcreteProduct class \n",
    "class PersonalSection(Section):\n",
    "    def describe(self):\n",
    "        print('Personal Section')\n",
    "\n",
    "        \n",
    "\n",
    "# ConcreteProduct class        \n",
    "class AlbumSection(Section):\n",
    "    def describe(self):\n",
    "        print('Album Section')\n",
    "\n",
    "        \n",
    "        \n",
    "# ConcreteProduct class\n",
    "class PatentSection(Section):\n",
    "    def describe(self):\n",
    "        print('Patent Section')\n",
    "\n",
    "        \n",
    "\n",
    "# ConcreteProduct class\n",
    "class PublicationSection(Section):\n",
    "    def describe(self):\n",
    "        print('Publication Section')"
   ]
  },
  {
   "cell_type": "markdown",
   "metadata": {},
   "source": [
    "- Now we create the *Creator* abstract class named **Profile**. This abstract class provides the factory method *createProfile()* that should be implemented by each *ConcreteClass* to actually create the profiles with appropriate section. The *Profile* abstract class itself is not aware of the sections that each profile should have. For example, a Facebook profile should have personal information and album sections, so we will let the subclass decide this.\n",
    "\n",
    "- So let's create two *ConcreteCreator* cçasses, *linkedin* and *facebook*. Each of these classes implement the *createProfile()* abstract method that actually creates (instantiates) multiple sections (ConcreteProducts) at runtime.\n"
   ]
  },
  {
   "cell_type": "code",
   "execution_count": 4,
   "metadata": {
    "execution": {
     "iopub.execute_input": "2021-01-25T20:16:58.970426Z",
     "iopub.status.busy": "2021-01-25T20:16:58.966823Z",
     "iopub.status.idle": "2021-01-25T20:17:03.488141Z",
     "shell.execute_reply": "2021-01-25T20:17:03.485973Z",
     "shell.execute_reply.started": "2021-01-25T20:16:58.969905Z"
    }
   },
   "outputs": [
    {
     "name": "stdin",
     "output_type": "stream",
     "text": [
      "LinkedIn or Facebook? linkedin\n"
     ]
    },
    {
     "name": "stdout",
     "output_type": "stream",
     "text": [
      "Creating profile linkedin\n",
      "Profile has the sections [<__main__.PersonalSection object at 0x7febd925f400>, <__main__.PatentSection object at 0x7febd925f8e0>, <__main__.PublicationSection object at 0x7febd925f7f0>]\n"
     ]
    }
   ],
   "source": [
    "class Profile(metaclass=ABCMeta):\n",
    "    def __init__(self):\n",
    "        self.sections = []\n",
    "        self.createProfile()\n",
    "        \n",
    "    @abstractmethod\n",
    "    def createProfile(self):\n",
    "        pass\n",
    "    \n",
    "    def getSections(self):\n",
    "        return self.sections\n",
    "    \n",
    "    def addSections(self, section):\n",
    "        self.sections.append(section)\n",
    "        \n",
    "\n",
    "class linkedin(Profile):\n",
    "    def createProfile(self):\n",
    "        self.addSections(PersonalSection())\n",
    "        self.addSections(PatentSection())\n",
    "        self.addSections(PublicationSection())\n",
    "\n",
    "class facebook(Profile):\n",
    "    def createProfile(self):\n",
    "        self.addSections(PersonalSection())\n",
    "        self.addSections(AlbumSection())\n",
    "    \n",
    "        \n",
    "\n",
    "if __name__ == '__main__':\n",
    "    profile_type = input('LinkedIn or Facebook?')\n",
    "    profile = eval(profile_type.lower())()\n",
    "    print(f'Creating profile {type(profile).__name__}')\n",
    "    print(f'Profile has the sections {profile.getSections()}')\n",
    "    \n"
   ]
  },
  {
   "cell_type": "markdown",
   "metadata": {},
   "source": [
    "------------------\n",
    "# **Abstract factory**\n",
    "\n",
    "- The main objective of this design pattern is to provide an interface to create families of related objects without specifying the concrete class. \n",
    "\n",
    "   ![Factory Method UML](images/abstract_factory.jpg)"
   ]
  },
  {
   "cell_type": "markdown",
   "metadata": {},
   "source": [
    "### Abstract Factory UML interpretation:\n",
    "\n",
    "- *ConcreteFactory1* and *ConcreteFactory2* are created from *AbstractFactory* interface. This interface has methods to create multiple products.\n",
    "\n",
    "- *ConcreteFactory1* and *ConcreteFactory2* implement *AbstractFactory* and create instances of *ConcreteProduct1*, *ConcreteProduct2*, *AnotherConcreteProduct1*, *AnotherConcreteProduct2*.\n",
    "\n",
    "- *ConcreteProduct1* and *concreteProduct2* are in turn created from *AbstractProduct* interface. The *AnotherConcreteProduct1* and *AnotherConcreteProduct2* are created from *AnotherAbstractProduct* interface.\n",
    "\n",
    "- In effect, abstract factory patterns makes sure that the client is isolated from the creation of objects but allowed to use those objects created. The client has the ability to access objects only through an interface. If products of one family are to be used, the Abstract Factory Pattern helps the client use the objects from one family at a time. For example, if an application under development is supposed to be platform-independent, then it needs to abstract dependencies such as OS, file system calls, among others. Abstract Factory pattern takes care of creating the required services fro the entire platform in a way that the client doesn't have to create platform objects directly."
   ]
  },
  {
   "cell_type": "markdown",
   "metadata": {},
   "source": [
    "-----------------\n",
    "# **Implementing the Abstract Factory Pattern**\n",
    "\n",
    "- Below we have the implementation of *concrete factories*:"
   ]
  },
  {
   "cell_type": "code",
   "execution_count": 10,
   "metadata": {
    "execution": {
     "iopub.execute_input": "2021-01-25T20:18:29.283816Z",
     "iopub.status.busy": "2021-01-25T20:18:29.283487Z",
     "iopub.status.idle": "2021-01-25T20:18:29.295506Z",
     "shell.execute_reply": "2021-01-25T20:18:29.292623Z",
     "shell.execute_reply.started": "2021-01-25T20:18:29.283781Z"
    }
   },
   "outputs": [],
   "source": [
    "from abc import ABCMeta, abstractmethod\n",
    "\n",
    "class PizzaFactory(metaclass=ABCMeta):\n",
    "    @abstractmethod\n",
    "    def createVegPizza(self):\n",
    "        pass\n",
    "    \n",
    "    @abstractmethod\n",
    "    def createNonVegPizza(self):\n",
    "        pass\n",
    "    \n",
    "    @abstractmethod\n",
    "    def createNonVegPizza(self):\n",
    "        pass\n",
    "    \n",
    "\n",
    "class BrazilianPizzaFactory(PizzaFactory):\n",
    "    def createVegPizza(self):\n",
    "        return DeluxeVeggiePizza()\n",
    "    \n",
    "    def createNonVegPizza(self):\n",
    "        return ChickenPizza()\n",
    "    \n",
    "\n",
    "class ItalianPizzaFactory(PizzaFactory):\n",
    "    def createVegPizza(self):\n",
    "        return ItalianVeggie()\n",
    "    \n",
    "    def createNonVegPizza(self):\n",
    "        return HamYumPizza()"
   ]
  },
  {
   "cell_type": "markdown",
   "metadata": {},
   "source": [
    "- Now we create *AbstractProducts*. In the following code we create two abstract pizza, *VegPizza* and *NonVegPizza* (i.e., *AbstractProduct* and *AnotherAbstractProduct*). They individually have a method defined, *prepare()* and *serve()*.\n",
    "\n",
    "- The thought process here is that vegetarian pizzas are prepared with an appropriaate crust, vegetables, seasoning... and nonvegetarian pizzas are served with nonvegetarian toppings on top of vegetarian pizzas.\n",
    "    - I.E.: non-veg pizzas are equal to veg-pizzas with non-veg ingredients (duh).\n",
    "    \n",
    "- Then we define *ConcreteProducts* for each *AbstractProduct*. In this case, they are *DeluxeVeggiePizza* and *ItalianVeggie* and implement the *prepare()* method. *ConcreteProducts1* and *ConcreteProducst2* would represent these classes from the UML diagram.\n",
    "\n",
    "- Later we define *ChickenPizza* and *HamYumPizza* and implement *serve()* method. They represent *AnotherConcreteProducts* and *AnotherConcreteProducts2* respectivelly."
   ]
  },
  {
   "cell_type": "code",
   "execution_count": 6,
   "metadata": {
    "execution": {
     "iopub.execute_input": "2021-01-25T20:17:03.510786Z",
     "iopub.status.busy": "2021-01-25T20:17:03.510371Z",
     "iopub.status.idle": "2021-01-25T20:17:03.520788Z",
     "shell.execute_reply": "2021-01-25T20:17:03.519845Z",
     "shell.execute_reply.started": "2021-01-25T20:17:03.510733Z"
    }
   },
   "outputs": [],
   "source": [
    "class VegPizza(metaclass=ABCMeta):\n",
    "    @abstractmethod\n",
    "    def prepare(self, VegPizza):\n",
    "        pass\n",
    "    \n",
    "class NonVegPizza(metaclass=ABCMeta):\n",
    "    @abstractmethod\n",
    "    def serve(self, VegPizza):\n",
    "        pass\n",
    "    \n",
    "class DeluxeVeggiePizza(VegPizza):\n",
    "    def prepare(self):\n",
    "        print(f'Prepare {type(self).__name__}.')\n",
    "              \n",
    "class ChickenPizza(NonVegPizza):\n",
    "    def serve(self, VegPizza):\n",
    "        print(f'{type(self).__name__} is served with chicken on {type(VegPizza).__name__}')\n",
    "\n",
    "class ItalianVeggie(VegPizza):\n",
    "    def prepare(self):\n",
    "        print(f'Prepare {type(self).__name__}')\n",
    "        \n",
    "class HamYumPizza(NonVegPizza):\n",
    "    def serve(self, VegPizza):\n",
    "        print(f'{type(self).__name__} is served with ham on {type(VegPizza).__name__}')"
   ]
  },
  {
   "cell_type": "markdown",
   "metadata": {},
   "source": [
    "- When an end user approaches *PizzaStore* and  asks for an Brazilian Non Veggie pizza, *BrazilianPizzaFactory* is responsible for preparing the vegetarian pizza as the base and serving the nonvegetarian pizza with ham on top."
   ]
  },
  {
   "cell_type": "code",
   "execution_count": 11,
   "metadata": {
    "execution": {
     "iopub.execute_input": "2021-01-25T20:18:40.299528Z",
     "iopub.status.busy": "2021-01-25T20:18:40.299125Z",
     "iopub.status.idle": "2021-01-25T20:18:40.309314Z",
     "shell.execute_reply": "2021-01-25T20:18:40.308379Z",
     "shell.execute_reply.started": "2021-01-25T20:18:40.299488Z"
    }
   },
   "outputs": [
    {
     "name": "stdout",
     "output_type": "stream",
     "text": [
      "Prepare DeluxeVeggiePizza.\n",
      "ChickenPizza is served with chicken on DeluxeVeggiePizza\n",
      "Prepare ItalianVeggie\n",
      "HamYumPizza is served with ham on ItalianVeggie\n"
     ]
    }
   ],
   "source": [
    "class PizzaStore:\n",
    "    def __init__(self):\n",
    "        pass\n",
    "    \n",
    "    def makePizzas(self):\n",
    "        for factory in [BrazilianPizzaFactory(), ItalianPizzaFactory()]:\n",
    "            self.factory = factory\n",
    "            self.NonVegPizza = self.factory.createNonVegPizza()\n",
    "            self.VegPizza = self.factory.createVegPizza()\n",
    "            self.VegPizza.prepare()\n",
    "            self.NonVegPizza.serve(self.VegPizza)\n",
    "\n",
    "pizza = PizzaStore()\n",
    "pizza.makePizzas()"
   ]
  },
  {
   "cell_type": "markdown",
   "metadata": {},
   "source": [
    "------------------------------\n",
    "# **Comparison between Factory Method and Abstract Factory Method:**\n",
    "\n",
    "<style type=\"text/css\">\n",
    ".tg  {border-collapse:collapse;border-color:#9ABAD9;border-spacing:0;}\n",
    ".tg td{background-color:#EBF5FF;border-color:#9ABAD9;border-style:solid;border-width:1px;color:#444;\n",
    "  font-family:Arial, sans-serif;font-size:14px;overflow:hidden;padding:10px 5px;word-break:normal;}\n",
    ".tg th{background-color:#409cff;border-color:#9ABAD9;border-style:solid;border-width:1px;color:#fff;\n",
    "  font-family:Arial, sans-serif;font-size:14px;font-weight:normal;overflow:hidden;padding:10px 5px;word-break:normal;}\n",
    ".tg .tg-amwm{font-weight:bold;text-align:center;vertical-align:top}\n",
    ".tg .tg-0lax{text-align:left;vertical-align:top}\n",
    "</style>\n",
    "<table class=\"tg\">\n",
    "<thead>\n",
    "  <tr>\n",
    "    <th class=\"tg-amwm\">Factory Method</th>\n",
    "    <th class=\"tg-amwm\">Abstract Factory Method</th>\n",
    "  </tr>\n",
    "</thead>\n",
    "<tbody>\n",
    "  <tr>\n",
    "    <td class=\"tg-0lax\">This exposes a method to the client create to create objects.</td>\n",
    "    <td class=\"tg-0lax\">Contains one or more factory methods to create a family of related objects.</td>\n",
    "  </tr>\n",
    "  <tr>\n",
    "    <td class=\"tg-0lax\">This uses inheritance and subclasses to decide which object to create.</td>\n",
    "    <td class=\"tg-0lax\">This uses composition to delegate resposibility to create objects of another class.</td>\n",
    "  </tr>\n",
    "  <tr>\n",
    "    <td class=\"tg-0lax\">Good to create one product.</td>\n",
    "    <td class=\"tg-0lax\">Good to create families of related products.</td>\n",
    "  </tr>\n",
    "</tbody>\n",
    "</table>"
   ]
  }
 ],
 "metadata": {
  "kernelspec": {
   "display_name": "Python 3",
   "language": "python",
   "name": "python3"
  },
  "language_info": {
   "codemirror_mode": {
    "name": "ipython",
    "version": 3
   },
   "file_extension": ".py",
   "mimetype": "text/x-python",
   "name": "python",
   "nbconvert_exporter": "python",
   "pygments_lexer": "ipython3",
   "version": "3.8.3"
  }
 },
 "nbformat": 4,
 "nbformat_minor": 4
}
