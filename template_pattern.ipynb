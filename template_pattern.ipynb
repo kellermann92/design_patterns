{
 "cells": [
  {
   "cell_type": "markdown",
   "metadata": {},
   "source": [
    "-----------------------\n",
    "# **Source**\n",
    "\n",
    "Content from [Learning Python Design Patterns (Chetan Giridhar, 2016)](https://www.amazon.com.br/dp/B018XYKNOM/ref=dp-kindle-redirect?_encoding=UTF8&btkr=1).\n",
    "\n",
    "-----------------------"
   ]
  },
  {
   "cell_type": "markdown",
   "metadata": {},
   "source": [
    "--------\n",
    "# **Template pattern**\n",
    "\n",
    "- Is one kind of  *behavioral pattern*.\n",
    "- It defines an algorithm to execute a task that require many steps\n",
    "- It helps to redefine or customize certain steps of the algorithm by deferring the implementation of some of these steps to subclasses. This means that subclasses can redefine their own behavior.\n",
    "\n",
    "- In software development terminology, here an abstract class is used to define the steps of the algorithm. These steps are also know as *primitive operations* in the context of the template method pattern. These steps are defined with abstract methods and the template method defines the algorithm. The **ConcreteClass** (that subclasses the abstract class) implements the subclass-specific steps of the algorithm.\n",
    "\n",
    "- The template method pattern is used in the following scenarios:\n",
    "    - When multiple algorithms or classes implement similar or identical logic.\n",
    "    - The implementation of algorithms in subclasses helps reduce code duplication.\n",
    "    - Multiple algorithms can be defined by letting the subclasses implement the behavior through overriding.\n",
    "    \n",
    "- Let's understand the pattern with a very simple day-to-day example. Think of what all you do when you prepare tea or coffee. In the case of coffee, you perform the following steps:\n",
    "    - 1. Boil water.\n",
    "    - 2. Brew coffee beans.\n",
    "    - 3. Pour it in the coffee cup.\n",
    "    - 4. Add sugar and milk to the cup.\n",
    "    - 5. Stir, and coffee is done.\n",
    "    \n",
    "- Now let's see the steps for preparing tea:\n",
    "    - 1. Boil water.\n",
    "    - 2. Step the tea bag.\n",
    "    - 3. Pour the tea in a cup.\n",
    "    - 4. Add lemon to the tea.\n",
    "    - 5. Stir, and the tea is done.\n",
    "\n",
    "\n",
    "- If you analyze both the preparations, you will find that both procedures are more or less the same. In this case we can use the template method pattern effectively. How do we implement it? We define a beverage class that has abstract methods common to preparing tea or coffee, such as *boilWater()*. We also define the *preparation()* method that will call out the sequence of steps in preparing the beverage (the algorithm). We let the concrete classes **PrepareCoffee** and **PrepareTea** define the customized steps to achieve the goals of preparing coffe and tea. This is how the template method pattern avoids code duplication."
   ]
  },
  {
   "cell_type": "markdown",
   "metadata": {},
   "source": [
    "---\n",
    "# **Understanding the Template Method design pattern**\n",
    "\n",
    "- In short the main intentions of template method pattern are as follows:\n",
    "    - Define a skeleton of an algorithm with primitive operations.\n",
    "    - Redefining certain operations of the subclasses witout changing the algorithm's structure.\n",
    "    - Achieving code reuse and avoiding duplicate efforts.\n",
    "    - Leveraging common interfaces or implementations.\n",
    "    \n",
    "- The template method works with the following terms: **AbstractClass**, **ConcreteClass**, *template_method()* and **Client**:\n",
    "    - **AbstractClass:** this declares an interface to define the steps of the algorithm.\n",
    "    - **ConcreteClass:** this defines subclass-specific step definitions.\n",
    "    - *template_method():* this defines the algorithm by calling the steps methods.\n",
    "\n",
    "- As a first example let's take a look of a compiler. The operations done by it are the following:\n",
    "    - *collectSource()* (abstract): collect the source of the code written in a program language and... \n",
    "    - *compileToObject()* (abstract): ... then compiling it to get the object code (binary format).\n",
    "    - *run()*: execute the program.\n",
    "    \n",
    "- The algorithm is defined by the *compileAndRun()* method, which internally calls the *collectSource()* method, which internally calls the *collectSource()*, *compileToObject()* and *run()* methods to define the algorithm of the compiler. The *MobileCompiler* concrete class now implements the abstract methods and compiles/run the code."
   ]
  },
  {
   "cell_type": "code",
   "execution_count": 3,
   "metadata": {
    "execution": {
     "iopub.execute_input": "2021-02-23T10:41:17.824644Z",
     "iopub.status.busy": "2021-02-23T10:41:17.824276Z",
     "iopub.status.idle": "2021-02-23T10:41:17.833990Z",
     "shell.execute_reply": "2021-02-23T10:41:17.833198Z",
     "shell.execute_reply.started": "2021-02-23T10:41:17.824603Z"
    }
   },
   "outputs": [
    {
     "name": "stdout",
     "output_type": "stream",
     "text": [
      "Collecting the source code...\n",
      "Compiling code...\n",
      "Program running on environment!\n"
     ]
    }
   ],
   "source": [
    "from abc import ABCMeta, abstractmethod\n",
    "\n",
    "class Compiler(metaclass=ABCMeta):\n",
    "    \n",
    "    @abstractmethod\n",
    "    def collectSource(self):\n",
    "        pass\n",
    "    \n",
    "    @abstractmethod\n",
    "    def compileToObject(self):\n",
    "        pass\n",
    "    \n",
    "    @abstractmethod\n",
    "    def run(self):\n",
    "        pass\n",
    "    \n",
    "    @abstractmethod\n",
    "    def compileAndRun(self):\n",
    "        pass\n",
    "    \n",
    "    def compileAndRun(self):\n",
    "        self.collectSource()\n",
    "        self.compileToObject()\n",
    "        self.run()\n",
    "        \n",
    "class MobileCompiler(Compiler):\n",
    "    def collectSource(self):\n",
    "        print('Collecting the source code...')\n",
    "        \n",
    "    def compileToObject(self):\n",
    "        print('Compiling code...')\n",
    "        \n",
    "    def run(self):\n",
    "        print('Program running on environment!')\n",
    "\n",
    "        \n",
    "mobile = MobileCompiler()\n",
    "mobile.compileAndRun()\n",
    "    "
   ]
  },
  {
   "cell_type": "markdown",
   "metadata": {},
   "source": [
    "------------------\n",
    "## **Template pattern UML**\n",
    "\n",
    "- The template pattern has te following main actors:\n",
    "    - **AbstractClass:** defines the steps of an algorithm with the help of abstract methods. These steps are overridden by concrete subclasses.\n",
    "    - **ConcreteClass:** this implements the steps (as defined by the abstract methods) to perform subclass-specific steps of the algorithm.\n",
    "    - **template_method:** template_method that defines the skeleton of the algorithm. Multiple steps as defined by abstract methods are called in the template method to define the sequence of the algorithm itself\n",
    "\n",
    "\n",
    "![Template pattern UML](images/template_pattern.jpg)"
   ]
  },
  {
   "cell_type": "markdown",
   "metadata": {},
   "source": [
    "--------------------------------\n",
    "# **Implementation**"
   ]
  },
  {
   "cell_type": "code",
   "execution_count": 6,
   "metadata": {
    "execution": {
     "iopub.execute_input": "2021-02-25T23:39:11.408227Z",
     "iopub.status.busy": "2021-02-25T23:39:11.407926Z",
     "iopub.status.idle": "2021-02-25T23:39:11.441471Z",
     "shell.execute_reply": "2021-02-25T23:39:11.435098Z",
     "shell.execute_reply.started": "2021-02-25T23:39:11.408193Z"
    }
   },
   "outputs": [
    {
     "name": "stdout",
     "output_type": "stream",
     "text": [
      "Operation 1 followed by operation 2.\n",
      "Concrete operation 2.\n",
      "Concrete operation 1.\n"
     ]
    }
   ],
   "source": [
    "from abc import ABCMeta, abstractmethod\n",
    "\n",
    "class AbstractClass(metaclass=ABCMeta):\n",
    "    def __init__(self):\n",
    "        pass\n",
    "        \n",
    "    @abstractmethod    \n",
    "    def operation1(self):\n",
    "        pass\n",
    "    \n",
    "    @abstractmethod\n",
    "    def operation2(self):\n",
    "        pass\n",
    "            \n",
    "    def template_method(self):\n",
    "        print('Operation 1 followed by operation 2.')\n",
    "        self.operation2()\n",
    "        self.operation1()\n",
    "        \n",
    "class ConcreteClass(AbstractClass):\n",
    "    def operation1(self):\n",
    "        print('Concrete operation 1.')\n",
    "        \n",
    "    def operation2(self):\n",
    "        print('Concrete operation 2.')\n",
    "        \n",
    "class Client:\n",
    "    def main(self):\n",
    "        self.concrete = ConcreteClass()\n",
    "        self.concrete.template_method()\n",
    "        \n",
    "client = Client()\n",
    "client.main()"
   ]
  },
  {
   "cell_type": "code",
   "execution_count": 7,
   "metadata": {
    "execution": {
     "iopub.execute_input": "2021-02-25T23:39:19.757828Z",
     "iopub.status.busy": "2021-02-25T23:39:19.757023Z",
     "iopub.status.idle": "2021-02-25T23:39:19.794651Z",
     "shell.execute_reply": "2021-02-25T23:39:19.788334Z",
     "shell.execute_reply.started": "2021-02-25T23:39:19.757721Z"
    }
   },
   "outputs": [
    {
     "name": "stdout",
     "output_type": "stream",
     "text": [
      "Help on class Client in module __main__:\n",
      "\n",
      "class Client(builtins.object)\n",
      " |  Methods defined here:\n",
      " |  \n",
      " |  main(self)\n",
      " |  \n",
      " |  ----------------------------------------------------------------------\n",
      " |  Data descriptors defined here:\n",
      " |  \n",
      " |  __dict__\n",
      " |      dictionary for instance variables (if defined)\n",
      " |  \n",
      " |  __weakref__\n",
      " |      list of weak references to the object (if defined)\n",
      "\n"
     ]
    }
   ],
   "source": [
    "help(Client)"
   ]
  },
  {
   "cell_type": "markdown",
   "metadata": {},
   "source": [
    "--------\n",
    "# **Template pattern in real world**\n",
    "\n",
    "- In this example we will take up a travels agency case to get a taste of real-world scenario for the template pattern. \n",
    "- They define various trips to various locations and come up with a holiday package (a travel that the customer undertakes).\n",
    "- The trip has details such as places visited, transportation used and so on.\n",
    "- This same trip can be customized based on different needs of different customers. This can be done by template method.\n",
    "    \n",
    "    \n",
    "### **Design considerations:**\n",
    "\n",
    "- For the preceding scenario, based on UML diagram, we should create an **AbstractClass** interface that defines a trip.\n",
    "- The trip should contain multiple abstract methods that define the transportation used, places visited on day1/2/3, assuming that it's a three-long weekend trip and also define the return journey.\n",
    "- The *itinerary()* template method will actually define the trip's itinerary.\n",
    "- We should define **ConcreteClasses** that would help us customize trips differently based on the customer's needs.\n",
    "\n",
    "- **Abstract classes and methods:**\n",
    "    - The abstract class will be the **Trip** class. It will be an interface that defines the details such as transportation used and places to visit on different days.\n",
    "    - The *setTransport* is an abstract method that should be implemented by **ConcreteClass** to set the mode of transportation.\n",
    "    - The *day1()*... *day3()* abstract methods define the places visited on the given day.\n",
    "    - The *itinerary()* template method creates the complete itinerary. The sequence of the trip is to first define the transportation mode then the places to visit on each day and *returnHome*.\n",
    "    \n",
    "- **Concrete classes:**\n",
    "    - We have two, **VeniceTrip** and **MaldivesTrip**. Both implements **Trip** interface.\n",
    "    - **VeniceTrip** and **MaldivesTrip** implements *setTransport()*, *day1()... day3()* and *returnHome()*\n",
    "    \n",
    "- **Client class:**\n",
    "    - It defines the method arrange_trip() that provides customers with the choice of whether they want to have a historical or beach trip.\n",
    "    - Based on the choice made by the tourist, an appropriate class is instantiated.\n",
    "    - This object then calls the *itinerary()* template method and the trip is arranged for the tourists as per the choice of the customers.    "
   ]
  },
  {
   "cell_type": "code",
   "execution_count": 3,
   "metadata": {
    "execution": {
     "iopub.execute_input": "2021-02-27T12:32:20.941602Z",
     "iopub.status.busy": "2021-02-27T12:32:20.940947Z",
     "iopub.status.idle": "2021-02-27T12:32:25.526487Z",
     "shell.execute_reply": "2021-02-27T12:32:25.523712Z",
     "shell.execute_reply.started": "2021-02-27T12:32:20.941531Z"
    }
   },
   "outputs": [
    {
     "name": "stdin",
     "output_type": "stream",
     "text": [
      "Where do you want to go? historical\n"
     ]
    },
    {
     "name": "stdout",
     "output_type": "stream",
     "text": [
      "Take a boat.\n",
      "Visit St. Mark's Basilica/Square.\n",
      "Appreciate Doge's Palace.\n",
      "Enjoy the food near the Rialto Bridge.\n",
      "Go home.\n"
     ]
    }
   ],
   "source": [
    "from abc import abstractmethod, ABCMeta\n",
    "\n",
    "class Trip(metaclass=ABCMeta):\n",
    "    \n",
    "    @abstractmethod\n",
    "    def setTransport(self):\n",
    "        pass\n",
    "    \n",
    "    @abstractmethod\n",
    "    def day1(self):\n",
    "        pass\n",
    "    \n",
    "    @abstractmethod\n",
    "    def day2(self):\n",
    "        pass\n",
    "    \n",
    "    @abstractmethod\n",
    "    def day3(self):\n",
    "        pass\n",
    "    \n",
    "    @abstractmethod\n",
    "    def returnHome(self):\n",
    "        pass\n",
    "    \n",
    "    def itinerary(self):\n",
    "        self.setTransport()\n",
    "        self.day1()\n",
    "        self.day2()\n",
    "        self.day3()\n",
    "        self.returnHome()\n",
    "        \n",
    "        \n",
    "# Concrete Classes\n",
    "class VeniceTrip(Trip):\n",
    "    def setTransport(self):\n",
    "        print('Take a boat.')\n",
    "        \n",
    "    def day1(self):\n",
    "        print(\"Visit St. Mark's Basilica/Square.\" )\n",
    "        \n",
    "    def day2(self):\n",
    "        print(\"Appreciate Doge's Palace.\")\n",
    "        \n",
    "    def day3(self):\n",
    "        print(\"Enjoy the food near the Rialto Bridge.\")\n",
    "        \n",
    "    def returnHome(self):\n",
    "        print('Go home.')\n",
    "        \n",
    "\n",
    "class MaldivesTrip(Trip):\n",
    "    def setTransport(self):\n",
    "        print('Foot on island...')\n",
    "        \n",
    "    def day1(self):\n",
    "        print(\"Visit Banana Reef.\" )\n",
    "        \n",
    "    def day2(self):\n",
    "        print(\"Snorkelling...\")\n",
    "        \n",
    "    def day3(self):\n",
    "        print(\"Relax...\")\n",
    "        \n",
    "    def returnHome(self):\n",
    "        print('Go home.')\n",
    "\n",
    "        \n",
    "# Client:\n",
    "class TravelAgency:\n",
    "    def arrange_trip(self):\n",
    "        choice = input('Where do you want to go?')\n",
    "        \n",
    "        if choice == 'historical':\n",
    "            self.trip = VeniceTrip()\n",
    "            self.trip.itinerary()\n",
    "            \n",
    "        if choice == 'beach':\n",
    "            self.trip = MaldivesTrip()\n",
    "            self.trip.itinerary()\n",
    "\n",
    "TravelAgency().arrange_trip()       "
   ]
  },
  {
   "cell_type": "code",
   "execution_count": 4,
   "metadata": {
    "execution": {
     "iopub.execute_input": "2021-02-27T12:45:04.864614Z",
     "iopub.status.busy": "2021-02-27T12:45:04.863664Z",
     "iopub.status.idle": "2021-02-27T12:45:04.879335Z",
     "shell.execute_reply": "2021-02-27T12:45:04.876811Z",
     "shell.execute_reply.started": "2021-02-27T12:45:04.864505Z"
    }
   },
   "outputs": [
    {
     "name": "stdout",
     "output_type": "stream",
     "text": [
      "Help on class TravelAgency in module __main__:\n",
      "\n",
      "class TravelAgency(builtins.object)\n",
      " |  Methods defined here:\n",
      " |  \n",
      " |  arrange_trip(self)\n",
      " |  \n",
      " |  ----------------------------------------------------------------------\n",
      " |  Data descriptors defined here:\n",
      " |  \n",
      " |  __dict__\n",
      " |      dictionary for instance variables (if defined)\n",
      " |  \n",
      " |  __weakref__\n",
      " |      list of weak references to the object (if defined)\n",
      "\n"
     ]
    }
   ],
   "source": [
    "help(TravelAgency)"
   ]
  },
  {
   "cell_type": "code",
   "execution_count": 5,
   "metadata": {
    "execution": {
     "iopub.execute_input": "2021-02-27T12:45:27.576651Z",
     "iopub.status.busy": "2021-02-27T12:45:27.575857Z",
     "iopub.status.idle": "2021-02-27T12:45:27.590477Z",
     "shell.execute_reply": "2021-02-27T12:45:27.588696Z",
     "shell.execute_reply.started": "2021-02-27T12:45:27.576564Z"
    }
   },
   "outputs": [
    {
     "name": "stdout",
     "output_type": "stream",
     "text": [
      "Help on class MaldivesTrip in module __main__:\n",
      "\n",
      "class MaldivesTrip(Trip)\n",
      " |  Method resolution order:\n",
      " |      MaldivesTrip\n",
      " |      Trip\n",
      " |      builtins.object\n",
      " |  \n",
      " |  Methods defined here:\n",
      " |  \n",
      " |  day1(self)\n",
      " |  \n",
      " |  day2(self)\n",
      " |  \n",
      " |  day3(self)\n",
      " |  \n",
      " |  returnHome(self)\n",
      " |  \n",
      " |  setTransport(self)\n",
      " |  \n",
      " |  ----------------------------------------------------------------------\n",
      " |  Data and other attributes defined here:\n",
      " |  \n",
      " |  __abstractmethods__ = frozenset()\n",
      " |  \n",
      " |  ----------------------------------------------------------------------\n",
      " |  Methods inherited from Trip:\n",
      " |  \n",
      " |  itinerary(self)\n",
      " |  \n",
      " |  ----------------------------------------------------------------------\n",
      " |  Data descriptors inherited from Trip:\n",
      " |  \n",
      " |  __dict__\n",
      " |      dictionary for instance variables (if defined)\n",
      " |  \n",
      " |  __weakref__\n",
      " |      list of weak references to the object (if defined)\n",
      "\n"
     ]
    }
   ],
   "source": [
    "help(MaldivesTrip)"
   ]
  },
  {
   "cell_type": "markdown",
   "metadata": {},
   "source": [
    "---\n",
    "# **Hooks**\n",
    "\n",
    "- A hook is a method that is declared in the abstract class. It is generally given a default implementation The idea behind hooks is to give a subclass the ability to *hook into* the algorithm whenever needed. It's not imperative for the subclass to use hooks and it can easily ignore this.\n",
    "\n",
    "- For example, in the beverage example we can add a simple hook to see if condiments need to be served along with tea or coffee based on the wish of the customer.\n",
    "\n",
    "- Another example of hook can be in the case of the travel agency example. Now, if we have a few elderly tourists, they may not want to go out on all three days of the trip as they may get tired easily. In this case, we can develop a hook that will ensure *day2* is lisghtly loaded, which means that they can go to a few nearby places and be back with the plan of *day3*.\n",
    "\n",
    "- Basically we use abstract methods when the subclass mus providethe implementation and the hook is used when it's optional for the subclass to implement it."
   ]
  },
  {
   "cell_type": "markdown",
   "metadata": {},
   "source": [
    "---\n",
    "# **The Hollywood principle and the template pattern**\n",
    "\n",
    "- The Hollywood principle is the design principle that is summarized by *\"Don't call us, we'll call you\"*. It comes from the Hollywood philosophy where the production houses call actors if there is any role for the actor.\n",
    "\n",
    "- In the object-oriented world, we allow low-level components to hook themselves into the system with the Hollywood principle. However, the high- level components determine how the low-level systems are needed and when they are needed. In other words, high-level components treat low-level components as **Don't call us, we'll call you**.\n",
    "\n",
    "- This relates to the template method pattern in the sense that it's the high-leve abstract class that arranges the steps to define the algorithm. Based on how the algorithm is, low-level classes are called on to define the concrete implementation for the steps."
   ]
  },
  {
   "cell_type": "markdown",
   "metadata": {},
   "source": [
    "---\n",
    "# **Advantages and "
   ]
  },
  {
   "cell_type": "code",
   "execution_count": 2,
   "metadata": {
    "execution": {
     "iopub.execute_input": "2021-02-14T17:53:55.485766Z",
     "iopub.status.busy": "2021-02-14T17:53:55.485021Z",
     "iopub.status.idle": "2021-02-14T17:53:55.513549Z",
     "shell.execute_reply": "2021-02-14T17:53:55.507664Z",
     "shell.execute_reply.started": "2021-02-14T17:53:55.485609Z"
    }
   },
   "outputs": [],
   "source": [
    "class NewsPublisher:\n",
    "    def __init__(self):\n",
    "        self.__subscribers = []\n",
    "        self.latestNews = None\n",
    "        \n",
    "    def attach(self, subscriber):\n",
    "        self.__subscribers.append(subscriber)\n",
    "        \n",
    "    def detach(self):\n",
    "        return self.__subscribers.pop()\n",
    "    \n",
    "    def subscribers(self):\n",
    "        return [type(x).__name__ for x in self.__subscribers]\n",
    "    \n",
    "    def notifySubscribers(self):\n",
    "        for sub in self.__subscribers:\n",
    "            sub.update()\n",
    "            \n",
    "    def addNews(self, news):\n",
    "        self.__latestNews = news\n",
    "        \n",
    "    def getNews(self):\n",
    "        return f'Got news! {self.__latestNews}'\n",
    "        \n",
    "        "
   ]
  },
  {
   "cell_type": "markdown",
   "metadata": {},
   "source": [
    "### **Observer interface design:**\n",
    "\n",
    "- The **Observer** is **Subscriber**. It's also an abstract base class and represents any other **ConcreteObserver**.\n",
    "- **Subscriber** has the *update()* method that needs to be implemented by **ConcreteObservers**.\n",
    "- The *update()* method is implemented by **ConcreteObserver** so they get notified by the **Subject** (**NewsPublishers**) about any news getting published.\n"
   ]
  },
  {
   "cell_type": "code",
   "execution_count": 3,
   "metadata": {
    "execution": {
     "iopub.execute_input": "2021-02-14T17:53:55.519868Z",
     "iopub.status.busy": "2021-02-14T17:53:55.519379Z",
     "iopub.status.idle": "2021-02-14T17:53:55.530569Z",
     "shell.execute_reply": "2021-02-14T17:53:55.525942Z",
     "shell.execute_reply.started": "2021-02-14T17:53:55.519795Z"
    }
   },
   "outputs": [],
   "source": [
    "from abc import ABCMeta, abstractmethod\n",
    "\n",
    "class Subscriber(metaclass=ABCMeta):\n",
    "    @abstractmethod\n",
    "    def update(self):\n",
    "        pass"
   ]
  },
  {
   "cell_type": "markdown",
   "metadata": {
    "execution": {
     "iopub.execute_input": "2021-02-14T17:53:55.598272Z",
     "iopub.status.busy": "2021-02-14T17:53:55.598011Z",
     "iopub.status.idle": "2021-02-14T17:53:55.608713Z",
     "shell.execute_reply": "2021-02-14T17:53:55.607101Z",
     "shell.execute_reply.started": "2021-02-14T17:53:55.598236Z"
    }
   },
   "source": [
    "---\n",
    "# **Advantages and disadvantages**\n",
    "\n",
    "- **<font color = blue> Advantages: </font>**\n",
    "    - There is no code duplication.\n",
    "    - Code reuse happens with the template method patter as it uses inheritance and not composition. Only a few methods need to be overriden.\n",
    "    - Flexibility lets subclasses decide how to implement steps in an algorithm.\n",
    "\n",
    "- **<font color = red> Advantages: </font>**\n",
    "    - Debbugging and understanding the sequence of flow in the template pattern can be confusing at times. You may end up implementing a method that shouldn't be implemented or not implementing an abstract method at all. Documentation and strict error handling has to be done by dhe programmer.\n",
    "    - Maintenance of the template framework can be a problem. As changes at any level can disturb the implementation. Hence, maintenance can be painful with template method pattern."
   ]
  },
  {
   "cell_type": "markdown",
   "metadata": {},
   "source": [
    "---\n",
    "# **FAQ**\n",
    "\n",
    "**Q1** CShould a low-level component be disallowed from calling a method in a higher-level component?\n",
    "- No, a low level component would definetely call the higher-level component through inheritance. However, what the programmer needs to make sure is that there is no circular dependency where a low-level and high-level components are dependent on each other.\n",
    "\n",
    "**Q2** Isn't the strategy pattern similar to the template pattern?\n",
    "- The strategy pattern and template pattern both encapsulate algoritms. Template depends on inheritance while strategy uses composition. The template method pattern is a compile-time algorithm selection by sub-classing while the strategy pattern is a runtime selection."
   ]
  },
  {
   "cell_type": "code",
   "execution_count": null,
   "metadata": {},
   "outputs": [],
   "source": []
  }
 ],
 "metadata": {
  "kernelspec": {
   "display_name": "Python 3",
   "language": "python",
   "name": "python3"
  },
  "language_info": {
   "codemirror_mode": {
    "name": "ipython",
    "version": 3
   },
   "file_extension": ".py",
   "mimetype": "text/x-python",
   "name": "python",
   "nbconvert_exporter": "python",
   "pygments_lexer": "ipython3",
   "version": "3.8.3"
  }
 },
 "nbformat": 4,
 "nbformat_minor": 4
}
