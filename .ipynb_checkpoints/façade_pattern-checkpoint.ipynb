{
 "cells": [
  {
   "cell_type": "markdown",
   "metadata": {},
   "source": [
    "-----------------------\n",
    "# Façade Pattern\n",
    "\n",
    "- Provides a unified interface to a set of interfaces in a subystem and defines a high level interface that helps the client use the subsystem in an easy way.\n",
    "- Façade discusses representing a complex subsystem with a single interface object. **It doesn't encapsulate the subsystem** but **combines the underlying subsystems**.\n",
    "- It promotes the decoupling of the implementation with multiple clients.\n",
    "\n"
   ]
  },
  {
   "cell_type": "markdown",
   "metadata": {},
   "source": [
    "-------------------------\n",
    "## Façade Pattern UML\n",
    "\n",
    "![Façade pattern UML](images/façade_pattern.jpg)\n",
    "\n",
    "In the façade UML diagram we can notice three main participants in the pattern:\n",
    "\n",
    "- **Façade:** the main responsibility of a façade is to wrap up a complex group of subsystems so that it can provide a pleasing look to the outside world.\n",
    "\n",
    "- **System:** this represents a set of varied subsystems that it can easily communicate with the whole system compound and difficult to view or work with,\n",
    "\n",
    "- **Client:** the client interacts with the façade so that it can easily communicate with the subsystem and get the work completed. It doesn't have to bother about the complex nature of the system.\n",
    "    \n",
    "Now it's a good idea lear a little more about the three main participants from **data structure's perspective:**\n",
    "\n",
    "- **Façade:**\n",
    "    - It's an interface that knows which subsystems are responsible for a request.\n",
    "    - It delegates the client's requests to the appropriate subsystem objects using composition.\n",
    "    \n",
    "- **System:**\n",
    "    - It implements subsystem functionality and is represented by a class. Idealy a system is represented by a group of classes that are responsible for different operations.\n",
    "    - It handles the work assigned by the façade object but has no knowledge of the façade and keeps no reference to it.\n",
    "    \n",
    "- **Client:**\n",
    "    - The client is a class that instantiates the façade.\n",
    "    - It makes requests to the façade to get the work done from the subsystems.\n",
    "    \n",
    "*Example: a custumer go to a store and order for something. The storekeeper (façade), who knows the storage complexity of the store, go there and get the ordered item. The client is the custumer, the store as it whole is the façade and each \"role\" (storekeeper, general employees, suppliers) that interacts with the storekeeper in order to return something to a client is the subsystem.*"
   ]
  },
  {
   "cell_type": "markdown",
   "metadata": {},
   "source": [
    "------\n",
    "# Façade implementation\n",
    "\n",
    "You have to organize an marriage. That is book a place for marriage, talk to a caterer for food arrangements, organize the decoration and handle the musical arrangements expected for the situation.\n",
    "\n",
    "In this situation is fair to think that you never have done this by yourself before. You always had to talk to an event manager who deals with all and then s/he negotiates with individual service providers to get the best deal for you.\n",
    "\n",
    "Here...:\n",
    "- **You** is the **Client**.\n",
    "- The **event manager** is the **Façade**. \n",
    "- The **suppliers** contacted by the **event manager** are the subsystems.\n"
   ]
  },
  {
   "cell_type": "code",
   "execution_count": 1,
   "metadata": {
    "execution": {
     "iopub.execute_input": "2021-01-28T10:30:56.007203Z",
     "iopub.status.busy": "2021-01-28T10:30:56.006374Z",
     "iopub.status.idle": "2021-01-28T10:30:56.015672Z",
     "shell.execute_reply": "2021-01-28T10:30:56.013385Z",
     "shell.execute_reply.started": "2021-01-28T10:30:56.007135Z"
    }
   },
   "outputs": [],
   "source": [
    "class EventManager(object):\n",
    "    def __init__(self):\n",
    "        print('EventManager:: Let me talk to the folks\\n')\n",
    "    \n",
    "    def arrange(self):\n",
    "        self.hotelier = Hotelier()\n",
    "        self.hotelier.bookHotel()\n",
    "        \n",
    "        self.florist = Florist()\n",
    "        self.florist.setFlowerRequirements()\n",
    "        \n",
    "        self.caterer = Caterer()\n",
    "        self.caterer.setCuisine()\n",
    "        \n",
    "        self.musician = Musician()\n",
    "        self.musician.setMusicType()\n",
    "        "
   ]
  },
  {
   "cell_type": "markdown",
   "metadata": {},
   "source": [
    "The *EventManager* is done. Let's dive into the subsystems.\n",
    "\n",
    "- *Hotelier* do the hotel booings. It must have a method to check whether the hotel is free on that day (*_isAvailable*).\n",
    "- The *Florist* is responsible for flower decoration. It must have a *setFlowerRequirements* method to set the expectations on the kind of flowers needed.\n",
    "- The *Caterer* is responsible to deal with the caterer *(whoa!)* and food arrangements. It must have a method to accept the type of cuisine to be served.\n",
    "- The *Musician* plays the music. It has a *setMusicType* method to understand the music requirements for the event.\n"
   ]
  },
  {
   "cell_type": "code",
   "execution_count": 3,
   "metadata": {
    "execution": {
     "iopub.execute_input": "2021-01-28T10:48:23.005744Z",
     "iopub.status.busy": "2021-01-28T10:48:23.005286Z",
     "iopub.status.idle": "2021-01-28T10:48:23.016707Z",
     "shell.execute_reply": "2021-01-28T10:48:23.015789Z",
     "shell.execute_reply.started": "2021-01-28T10:48:23.005691Z"
    }
   },
   "outputs": [],
   "source": [
    "class Hotelier(object):\n",
    "    def __init__(self):\n",
    "        print('Arranging the Hother for Marriage? --')\n",
    "        \n",
    "    def _isAvailable(self):\n",
    "        print('Is the hotel free for the event on given day?\\n\\n')\n",
    "        return True\n",
    "    \n",
    "    def bookHotel(self):\n",
    "        if self._isAvailable():\n",
    "            print('Booked!')\n",
    "\n",
    "class Florist(object):\n",
    "    def __init__(self):\n",
    "        print('Flower decorations? --')\n",
    "        \n",
    "    def setFlowerRequirements(self):\n",
    "        print('Carnations, roses and lilies is good!\\n\\n')\n",
    "        \n",
    "class Caterer(object):\n",
    "    def __init__(self):\n",
    "        print('Food arrangements? --')\n",
    "        \n",
    "    def setCuisine(self):\n",
    "        print('How about chinese and continental?\\n\\n')\n",
    "        \n",
    "class Musician(object):\n",
    "    def __init__(self):\n",
    "        print('Musical arrangements?? --')\n",
    "        \n",
    "    def setMusicType(self):\n",
    "        print('How about heavy metal? _\\_/\\n\\n')"
   ]
  },
  {
   "cell_type": "markdown",
   "metadata": {},
   "source": [
    "- Now we built the client:"
   ]
  },
  {
   "cell_type": "code",
   "execution_count": 4,
   "metadata": {
    "execution": {
     "iopub.execute_input": "2021-01-28T10:52:06.805703Z",
     "iopub.status.busy": "2021-01-28T10:52:06.805464Z",
     "iopub.status.idle": "2021-01-28T10:52:06.810223Z",
     "shell.execute_reply": "2021-01-28T10:52:06.809432Z",
     "shell.execute_reply.started": "2021-01-28T10:52:06.805677Z"
    }
   },
   "outputs": [],
   "source": [
    "class You(object):\n",
    "    def __init__(self):\n",
    "        print('MARRIAGE ARRANGEMENTS? AAAAAA')\n",
    "    \n",
    "    def askEventManager(self):\n",
    "        print(\"You: let's contact the EventManager.\\n\\n\")\n",
    "        em = EventManager()\n",
    "        em.arrange()\n",
    "    \n",
    "    def __del__(self):\n",
    "        print('You: Thanks, EventManager. All done!')\n",
    "        "
   ]
  },
  {
   "cell_type": "code",
   "execution_count": 5,
   "metadata": {
    "execution": {
     "iopub.execute_input": "2021-01-28T10:52:36.594065Z",
     "iopub.status.busy": "2021-01-28T10:52:36.592206Z",
     "iopub.status.idle": "2021-01-28T10:52:36.620131Z",
     "shell.execute_reply": "2021-01-28T10:52:36.610066Z",
     "shell.execute_reply.started": "2021-01-28T10:52:36.593763Z"
    }
   },
   "outputs": [
    {
     "name": "stdout",
     "output_type": "stream",
     "text": [
      "MARRIAGE ARRANGEMENTS? AAAAAA\n",
      "You: let's contact the EventManager.\n",
      "\n",
      "\n",
      "EventManager:: Let me talk to the folks\n",
      "\n",
      "Arranging the Hother for Marriage? --\n",
      "Is the hotel free for the event on given day?\n",
      "\n",
      "\n",
      "Booked!\n",
      "Flower decorations? --\n",
      "Carnations, roses and lilies is good!\n",
      "\n",
      "\n",
      "Food arrangements? --\n",
      "How about chinese and continental?\n",
      "\n",
      "\n",
      "Musical arrangements?? --\n",
      "How about heavy metal? _\\_/\n",
      "\n",
      "\n"
     ]
    }
   ],
   "source": [
    "# Using the setup:\n",
    "\n",
    "you = You()\n",
    "you.askEventManager()"
   ]
  },
  {
   "cell_type": "code",
   "execution_count": null,
   "metadata": {},
   "outputs": [],
   "source": []
  }
 ],
 "metadata": {
  "kernelspec": {
   "display_name": "Python 3",
   "language": "python",
   "name": "python3"
  },
  "language_info": {
   "codemirror_mode": {
    "name": "ipython",
    "version": 3
   },
   "file_extension": ".py",
   "mimetype": "text/x-python",
   "name": "python",
   "nbconvert_exporter": "python",
   "pygments_lexer": "ipython3",
   "version": "3.8.3"
  }
 },
 "nbformat": 4,
 "nbformat_minor": 4
}
