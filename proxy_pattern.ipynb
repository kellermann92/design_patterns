{
 "cells": [
  {
   "cell_type": "markdown",
   "metadata": {},
   "source": [
    "-----------------------\n",
    "# **Source**\n",
    "\n",
    "Content from [Learning Python Design Patterns (Chetan Giridhar, 2016)](https://www.amazon.com.br/dp/B018XYKNOM/ref=dp-kindle-redirect?_encoding=UTF8&btkr=1).\n",
    "\n",
    "-----------------------"
   ]
  },
  {
   "cell_type": "markdown",
   "metadata": {},
   "source": [
    "--------\n",
    "# **Proxy pattern**\n",
    "\n",
    "- In general, *proxy* is a system that intermediates between seeker and provider.\n",
    "    - *Seeker* does the request\n",
    "    - *Providers* delivers the resources in response to those requests.\n",
    "\n",
    "- In context of desing patterns, *Proxy* is a class that acts as an interface to real objects.\n",
    "- *Proxy* is a wrapper or agent object that wraps the real serving object. It could provide additional functionality to the object that it wraps and doesn't change the object's code. The main intention of the *Proxy* pattern is to provide a surrogate or placeholder for another object in order to control access to a real object.\n",
    "\n",
    "- The proxy pattern is used in multiple scenarios such as:\n",
    "    - Represents a complex system in a simpler way. For example, a system that involves multiple complex calculations or procedures should have a simpler interface that can act as a proxy for the benefit of the client.\n",
    "    - Adds security to the existing real objects. In many cases, the client is not allowed to access the real object directly. This is because the real object can get compromised with malicious activities. This way proxies act as a shield against malicious intentions and protect the ral object.\n",
    "    - Provides a local interface for remote objects on different servers. A clear example of this is with the distributed systems where the client wants to run certain commands on the remote system but the client may not have direct permissions to make this happen. So it contacts a local object (proxy) with the request, which is then executed by the poxy on the remote machine. \n",
    "    - Provides a light handle for higher memory-consuming object. Sometimes you man not want o load the main objects unless they're really necessary. This is because real objects are really heavy and may need high resource utilization. A classic example is that of profile pictures of users on a website. You're much better of showing smaller profile images in a list view, but you'll need to load actual image to show the detailed view of the user profile.\n",
    "    \n",
    "\n",
    "- Let's get an example: an *Actor* and his *Agent*. When production companies wantto approach an *Actor* for a movie they talk to the *Agent* directly, not to the *Actor*. Based on the schedule of the *Actor* and other engagements, the *Agent* gets back to the production company on the availability and interest in working in the movie.\n",
    "    - *Agent* here is the proxy.\n",
    "    - *Actor* is the real object.\n",
    "    - The production company are the clients."
   ]
  },
  {
   "cell_type": "markdown",
   "metadata": {},
   "source": [
    "--------------------------------\n",
    "# **Implementation**"
   ]
  },
  {
   "cell_type": "code",
   "execution_count": 4,
   "metadata": {
    "execution": {
     "iopub.execute_input": "2021-01-30T18:36:32.617513Z",
     "iopub.status.busy": "2021-01-30T18:36:32.617146Z",
     "iopub.status.idle": "2021-01-30T18:36:32.631740Z",
     "shell.execute_reply": "2021-01-30T18:36:32.628399Z",
     "shell.execute_reply.started": "2021-01-30T18:36:32.617472Z"
    }
   },
   "outputs": [
    {
     "name": "stdout",
     "output_type": "stream",
     "text": [
      "Actor is free for the movie.\n"
     ]
    }
   ],
   "source": [
    "class Actor(object):\n",
    "    def __init__(self):\n",
    "        self.isBusy = False\n",
    "        \n",
    "    def occupied(self):\n",
    "        self.isBusy = True\n",
    "        print(f'{type(self).__name__} is occupied with current movie.')\n",
    "        \n",
    "    def available(self):\n",
    "        self.isBusy = False\n",
    "        print(f'{type(self).__name__} is free for the movie.')\n",
    "        \n",
    "    def getStatus(self):\n",
    "        return self.isBusy\n",
    "    \n",
    "    \n",
    "class Agent(object):\n",
    "    \n",
    "    def __init__(self):\n",
    "        self.principal = None\n",
    "        \n",
    "    def work(self):\n",
    "        self.actor = Actor()\n",
    "        if self.actor.getStatus():\n",
    "            self.actor.occupied()\n",
    "        else:\n",
    "            self.actor.available()\n",
    "            \n",
    "if __name__ == '__main__':\n",
    "    r = Agent()\n",
    "    r.work()"
   ]
  },
  {
   "cell_type": "markdown",
   "metadata": {},
   "source": [
    "------------------\n",
    "## **Proxy pattern UML**\n",
    "\n",
    "- The proxy design pattern essentially does the following:\n",
    "    - It provides a surrogate for another object so that you can control acceess to the original object.\n",
    "    - It is used as a layer or interface to support distributed access.\n",
    "    - It adds delegation and protects the real component from undesired impact.\n",
    "\n",
    "![Proxy pattern UML](images/proxy_pattern.jpg)\n",
    "    \n",
    "- Following the UML diagram we have:\n",
    "     - **Proxy:** maintains a reference that lets the proxy access the real object. It provides an interface identical to the *Subject* so that *Proxy* can substitute the real *Subject*. Proxies area also responsible for creating and deleting *RealSubject*.\n",
    "     \n",
    "     - **Subject:** it provides a representation for both, the *RealSubject* and *Proxy*. As *Proxy* and *RealSubject* implement *Subject*, *Proxy* can be used wherever *RealSubject* is expected.\n",
    "     \n",
    "     - **RealSubject:** it defines the real object that the proxy represents.\n",
    "     \n",
    "- From the data structure's perspective, the UML diagram can be represent as follows:\n",
    "     - **Proxy:** it's a class that controls access to the *RealSubject* class. It handles the client's requests and is responsible for creating or deleting *RealSubject*.\n",
    "     \n",
    "     - **Subject/RealSubject:** *Subject* is an interface that defines what *RealSubject* and *Proxy* should look like. *RealSubject* is an actual implementation of the *Subject* interface. It provides the real functionality that is then used by the client. \n",
    "     \n",
    "     - **Client:** it accesses the *Proxy* class for the work to be accomplished. The *Proxy* class internally controls access to *RealSubject* and directs the work requested by *Client*."
   ]
  },
  {
   "cell_type": "markdown",
   "metadata": {},
   "source": [
    "--------\n",
    "# **Understanding different types of Proxies**\n",
    "\n",
    "- There are multiple common situations where *Proxies* are used. We talked about some of them in the beginning of this chapter. Based on how they're used we can categorize them as virtual, remote, protective and smart proxy."
   ]
  },
  {
   "cell_type": "markdown",
   "metadata": {},
   "source": [
    "------\n",
    "## Virtual proxy\n",
    "\n",
    "- It's a placeholder for objects that are very heavy to instantiate. For example you want to load a large image on your website. Now this request will take a long time to load. Typically developers will create a placeholder icon on the web page suggesting  that there's an image. Howeber, the image will only be loaded when the user actually clicks on the icon thus saving the cost of loading a heavy image in memory. \n",
    "    - In the virtual proxies, the real object is created only when the client requests the object for the first time.\n",
    "    \n",
    "------\n",
    "## Remote proxy\n",
    "\n",
    "- It provides a local representation of a real object that resides on a remote server or dirrerent address space. For example you want to build a monitoring system for your application that has multiple web servers, db servers, celery task servers, caching servers, etc. If we want to monitor the CPU and disk utilization of these servers, we need to have an object that is available in the context of where the monitoring application runs but can perform remote commands to get the actual parameter values. In such cases, having a remote proxy object that is a local representation of the remote object would help.\n",
    "\n",
    "-------\n",
    "## Protective proxy\n",
    "\n",
    "- Controls access to sensitive matter object of *RealSubject*. For example: web applications have multple services that work together to provide functionality. Now, in such systems, an authentication service acts as a protective proxy server that is responsible for authentication and authorization. In this case, Proxy internaly helps in protecting the core funtionality of the website for unrecognized or unauthorized agents. Thus the surrogate object checks that the caller has access to permissions required to forward the request.\n",
    "\n",
    "-----\n",
    "## Smart proxy\n",
    "\n",
    "- They interpose additional actions when an object is accessed. For example consider that there's a core component in the system that stores states in a centralized location. Typically such a component gets called by multiple different services to complete their tasks and can result in issues with shared resources. Instead of services directly invoking the core component, a smart proxy is built-in and check whether the real object is locked before it is accessed in order to ensure that no other object can change it.\n",
    "\n",
    "\n",
    "\n"
   ]
  },
  {
   "cell_type": "markdown",
   "metadata": {},
   "source": [
    "----------\n",
    "# **The proxy pattern in real world**\n",
    "\n",
    "- We will take up a payment use case to demonstrate a real-world scenario for the Proxy pattern. Let's say that you go to shop at a mall and like a nice denim shirt there. You would like to purchase it but you don't have enough cash to do so.\n",
    "\n",
    "- In yesteryers, you'd go to an ATM, take out the money, then come to the mall and pay for it. Even earlier, you'd a bank check for which you had to go the banc, withdraw money and then come back to pay for your expense.\n",
    "\n",
    "- Thanks to the banks we now have something called a debit card. So now when you want to purchase something you present your debit card to the merchant. When you punch in your card details, the money is debited in the mercant's account for your expense.\n",
    "\n",
    "- Let's develop an application. We start with client first. You went to the shopping mall and now would like to purchase a nice denim shirt. Let's see how *Client* code is written:\n",
    "    - Your behavior is represented by *You* class -- the client.\n",
    "    - To buy the shirt, the *make_payment()* method is provided by the class.\n",
    "    - The special *\\_\\_init\\_\\_()* method calls the proxy and instantiates it\n",
    "    - The *make_payment()* method invokes the proxy's method internally to make the payment.\n",
    "    - The *\\_\\_del\\_\\_()* method returns in case the payment is successfull"
   ]
  },
  {
   "cell_type": "code",
   "execution_count": 12,
   "metadata": {
    "execution": {
     "iopub.execute_input": "2021-01-30T20:31:40.854871Z",
     "iopub.status.busy": "2021-01-30T20:31:40.854659Z",
     "iopub.status.idle": "2021-01-30T20:31:48.218691Z",
     "shell.execute_reply": "2021-01-30T20:31:48.214927Z",
     "shell.execute_reply.started": "2021-01-30T20:31:40.854850Z"
    }
   },
   "outputs": [
    {
     "name": "stdout",
     "output_type": "stream",
     "text": [
      "You: Let's buy some t-shirt!!\n"
     ]
    },
    {
     "name": "stdin",
     "output_type": "stream",
     "text": [
      "Proxy: punch in Card Number 9999\n"
     ]
    },
    {
     "name": "stdout",
     "output_type": "stream",
     "text": [
      "Bank: checking if account None has funds.\n",
      "Bank: paying the store...\n"
     ]
    }
   ],
   "source": [
    "class You:\n",
    "    def __init__(self):\n",
    "        print(\"You: Let's buy some t-shirt!!\")\n",
    "        self.debitCard = DebitCard()\n",
    "        self.isPurchased = None\n",
    "        \n",
    "    def make_payment(self):\n",
    "        self.isPurchased = self.debitCard.do_pay()\n",
    "        \n",
    "    def __del__(self):\n",
    "        if self.isPurchased:\n",
    "            print(\"You: wow the shirt is mine weee weee.\")\n",
    "        else:\n",
    "            print(\"You: I have no money but I have two kidneys.\")\n",
    "            \n",
    "you = You()\n",
    "you.make_payment()"
   ]
  },
  {
   "cell_type": "markdown",
   "metadata": {},
   "source": [
    "- Now let's talk about the *Subject* class. As we know, the *Subject* class is an interface that is implemented by the *Proxy* and *RealSubject* \n",
    "     - In this example the subject is the *Payment* class. It is an abstract base class and represents an interface.\n",
    "     - *Payment* has the *do_pay()* method that needs to be implemented by the *Proxy* and *RealSubject*.\n",
    "\n",
    "- Let's see these methods in action in the following code:"
   ]
  },
  {
   "cell_type": "code",
   "execution_count": 11,
   "metadata": {
    "execution": {
     "iopub.execute_input": "2021-01-30T20:31:37.247325Z",
     "iopub.status.busy": "2021-01-30T20:31:37.246342Z",
     "iopub.status.idle": "2021-01-30T20:31:37.267157Z",
     "shell.execute_reply": "2021-01-30T20:31:37.263393Z",
     "shell.execute_reply.started": "2021-01-30T20:31:37.247267Z"
    }
   },
   "outputs": [],
   "source": [
    "from abc import ABCMeta, abstractmethod\n",
    "\n",
    "class Payment(metaclass=ABCMeta):\n",
    "    @abstractmethod\n",
    "    def do_pay(self):\n",
    "        pass"
   ]
  },
  {
   "cell_type": "markdown",
   "metadata": {},
   "source": [
    "- We also developed the *Bank* class that represents *RealSubject* in this scenario:\n",
    "    - *Bank* will actually make the payment from your account in the store account.\n",
    "    - *Bank* has multiple method to process the payment. The *setCard()* method is used by the *Proxy* to send the debit card details to the bank.\n",
    "    - The *\\_\\_getAccount()* method is a private method of *Bank* that is used to get the account details of debit card holder. For simplicity we have enforced the debit card number to be the same as the account number.\n",
    "    \n",
    "    - *Bank* also has the *\\_\\_hasFunds()* method to see if the account holder has enough funds in the account to pay for the shirt.\n",
    "    \n",
    "    - The *do\\_pay()* method that is implemented by the *Bank* class (from the Payment interface) is actually responsible for making the payment to the store based on available funds:"
   ]
  },
  {
   "cell_type": "code",
   "execution_count": 10,
   "metadata": {
    "execution": {
     "iopub.execute_input": "2021-01-30T20:31:31.914414Z",
     "iopub.status.busy": "2021-01-30T20:31:31.913969Z",
     "iopub.status.idle": "2021-01-30T20:31:31.925564Z",
     "shell.execute_reply": "2021-01-30T20:31:31.923791Z",
     "shell.execute_reply.started": "2021-01-30T20:31:31.914362Z"
    }
   },
   "outputs": [],
   "source": [
    "class Bank(Payment):\n",
    "    def __init__(self):\n",
    "        self.card = None\n",
    "        self.account = None\n",
    "        \n",
    "    def __getAccount(self):\n",
    "        self.account = self.card # Assume card number is account number\n",
    "        return self.account\n",
    "    def __hasFunds(self):\n",
    "        print(f\"Bank: checking if account {self.account} has funds.\")\n",
    "        return True\n",
    "    \n",
    "    def setCard(self, card):\n",
    "        self.card = card\n",
    "        \n",
    "    def do_pay(self):\n",
    "        if self.__hasFunds():\n",
    "            print('Bank: paying the store...')\n",
    "            return True\n",
    "        else:\n",
    "            print('Bank: not enough funds. Want to use your kidney?')\n",
    "            return False"
   ]
  },
  {
   "cell_type": "markdown",
   "metadata": {},
   "source": [
    "- Let's now understand the last piece which is the *Proxy*:\n",
    "    - The *DebitCard* class is the proxy here. When *You* wants to make a payment, it calls the *do\\_pay()* method. This is because *You* doesn't want to go to the bank to withdraw money and pay the store.\n",
    "    - The *DebitCard* class acts as a surrogate for the *RealSubject*, the *Bank*.\n",
    "    - *Bank* goes through the internal checks on the account and does the payment as described in the previous code snippet:"
   ]
  },
  {
   "cell_type": "code",
   "execution_count": 9,
   "metadata": {
    "execution": {
     "iopub.execute_input": "2021-01-30T20:31:27.779427Z",
     "iopub.status.busy": "2021-01-30T20:31:27.779221Z",
     "iopub.status.idle": "2021-01-30T20:31:27.783255Z",
     "shell.execute_reply": "2021-01-30T20:31:27.782624Z",
     "shell.execute_reply.started": "2021-01-30T20:31:27.779407Z"
    }
   },
   "outputs": [],
   "source": [
    "class DebitCard(Payment):\n",
    "    def __init__(self):\n",
    "        self.bank = Bank()\n",
    "        \n",
    "    def do_pay(self):\n",
    "        card = input(\"Proxy: punch in Card Number\")\n",
    "        self.bank.setCard(card)\n",
    "        return self.bank.do_pay()"
   ]
  },
  {
   "cell_type": "markdown",
   "metadata": {},
   "source": [
    "----\n",
    "## **All in one chunk:**"
   ]
  },
  {
   "cell_type": "code",
   "execution_count": 13,
   "metadata": {
    "execution": {
     "iopub.execute_input": "2021-01-30T20:33:37.908980Z",
     "iopub.status.busy": "2021-01-30T20:33:37.908187Z",
     "iopub.status.idle": "2021-01-30T20:33:42.329470Z",
     "shell.execute_reply": "2021-01-30T20:33:42.323303Z",
     "shell.execute_reply.started": "2021-01-30T20:33:37.908885Z"
    }
   },
   "outputs": [
    {
     "name": "stdout",
     "output_type": "stream",
     "text": [
      "You: Let's buy some t-shirt!!\n",
      "You: wow the shirt is mine weee weee.\n"
     ]
    },
    {
     "name": "stdin",
     "output_type": "stream",
     "text": [
      "Proxy: punch in Card Number 999999\n"
     ]
    },
    {
     "name": "stdout",
     "output_type": "stream",
     "text": [
      "Bank: checking if account None has funds.\n",
      "Bank: paying the store...\n"
     ]
    }
   ],
   "source": [
    "from abc import ABCMeta, abstractmethod\n",
    "\n",
    "class Payment(metaclass=ABCMeta):\n",
    "    @abstractmethod\n",
    "    def do_pay(self):\n",
    "        pass\n",
    "    \n",
    "class Bank(Payment):\n",
    "    def __init__(self):\n",
    "        self.card = None\n",
    "        self.account = None\n",
    "        \n",
    "    def __getAccount(self):\n",
    "        self.account = self.card # Assume card number is account number\n",
    "        return self.account\n",
    "    def __hasFunds(self):\n",
    "        print(f\"Bank: checking if account {self.account} has funds.\")\n",
    "        return True\n",
    "    \n",
    "    def setCard(self, card):\n",
    "        self.card = card\n",
    "        \n",
    "    def do_pay(self):\n",
    "        if self.__hasFunds():\n",
    "            print('Bank: paying the store...')\n",
    "            return True\n",
    "        else:\n",
    "            print('Bank: not enough funds. Want to use your kidney?')\n",
    "            return False\n",
    "\n",
    "class DebitCard(Payment):\n",
    "    def __init__(self):\n",
    "        self.bank = Bank()\n",
    "        \n",
    "    def do_pay(self):\n",
    "        card = input(\"Proxy: punch in Card Number\")\n",
    "        self.bank.setCard(card)\n",
    "        return self.bank.do_pay()\n",
    "    \n",
    "class You:\n",
    "    def __init__(self):\n",
    "        print(\"You: Let's buy some t-shirt!!\")\n",
    "        self.debitCard = DebitCard()\n",
    "        self.isPurchased = None\n",
    "        \n",
    "    def make_payment(self):\n",
    "        self.isPurchased = self.debitCard.do_pay()\n",
    "        \n",
    "    def __del__(self):\n",
    "        if self.isPurchased:\n",
    "            print(\"You: wow the shirt is mine weee weee.\")\n",
    "        else:\n",
    "            print(\"You: I have no money but I have two kidneys.\")\n",
    "            \n",
    "you = You()\n",
    "you.make_payment()"
   ]
  },
  {
   "cell_type": "markdown",
   "metadata": {},
   "source": [
    "-------\n",
    "# **Advantages of Proxy pattern**\n",
    "\n",
    "- Proxies can help improve the performance of some application by caching heavy objects or typically the frequently accessed objects;\n",
    "- Proxies can also authorize the access to *RealSubject*, thus, helps in delegation only if the permissions are right;\n",
    "- Remote proxies also facilitate interaction with remote servers that can work as network connections and database connections and can be used to monitor systems.\n"
   ]
  },
  {
   "cell_type": "markdown",
   "metadata": {},
   "source": [
    "------------\n",
    "# **Comparison: Façade v Proxy patterns**\n",
    "\n",
    "<style type=\"text/css\">\n",
    ".tg  {border-collapse:collapse;border-color:#9ABAD9;border-spacing:0;}\n",
    ".tg td{background-color:#EBF5FF;border-color:#9ABAD9;border-style:solid;border-width:1px;color:#444;\n",
    "  font-family:Arial, sans-serif;font-size:14px;overflow:hidden;padding:10px 5px;word-break:normal;}\n",
    ".tg th{background-color:#409cff;border-color:#9ABAD9;border-style:solid;border-width:1px;color:#fff;\n",
    "  font-family:Arial, sans-serif;font-size:14px;font-weight:normal;overflow:hidden;padding:10px 5px;word-break:normal;}\n",
    ".tg .tg-7btt{border-color:inherit;font-weight:bold;text-align:center;vertical-align:top}\n",
    ".tg .tg-0pky{border-color:inherit;text-align:left;vertical-align:top}\n",
    "</style>\n",
    "<table class=\"tg\">\n",
    "<thead>\n",
    "  <tr>\n",
    "    <th class=\"tg-7btt\">Proxy pattern</th>\n",
    "    <th class=\"tg-7btt\">Façade pattern</th>\n",
    "  </tr>\n",
    "</thead>\n",
    "<tbody>\n",
    "  <tr>\n",
    "    <td class=\"tg-0pky\">Provides you with a surrogate or placeholder for another <br>object to control access to it.</td>\n",
    "    <td class=\"tg-0pky\">Provides you with an interface to l arge subsystems of classes.</td>\n",
    "  </tr>\n",
    "  <tr>\n",
    "    <td class=\"tg-0pky\">A proxy object has the same interface as that of the target object and <br>holds references to target objects.</td>\n",
    "    <td class=\"tg-0pky\">Minimizes communication and dependecies between subsystems.</td>\n",
    "  </tr>\n",
    "  <tr>\n",
    "    <td class=\"tg-0pky\">It acts as an intermediary between the client and object that<br>is wrapped.</td>\n",
    "    <td class=\"tg-0pky\">A Façade object provides a single simplified interface.</td>\n",
    "  </tr>\n",
    "</tbody>\n",
    "</table>"
   ]
  },
  {
   "cell_type": "markdown",
   "metadata": {},
   "source": [
    "-----\n",
    "# **FAQ**\n",
    "\n",
    "**Q1** Whats is the difference between decorator pattern and proxy pattern?\n",
    "- A decorator adds behavior to the object that it decorates at runtime while a proxy controls access to an object. The relationship between proxy and *RealSubject* is at compile time and not dynamic.\n",
    "\n",
    "**Q2** What are the disadvantages of the proxy pattern?\n",
    "- The proxy pattern can increase the response time. For instance, if the proxy is not well architectured or has some performance issues, it can add to the response time of *RealSubject*. Generally it all depends on how well a proxy is written.\n",
    "\n",
    "**Q3** Can the client access *RealSubject* independently?\n",
    "- Yes, but there are certain advantages that proxies provide such as virtual, remote and others. So it's advantageous to use the proxy pattern.\n",
    "\n",
    "**Q4** Does the proxy add any functionality of its own?\n",
    "- A proxy can add functionality to *RealSubject* without changing the object's code. Proxy and *RealSubject* would implement the same interface."
   ]
  }
 ],
 "metadata": {
  "kernelspec": {
   "display_name": "Python 3",
   "language": "python",
   "name": "python3"
  },
  "language_info": {
   "codemirror_mode": {
    "name": "ipython",
    "version": 3
   },
   "file_extension": ".py",
   "mimetype": "text/x-python",
   "name": "python",
   "nbconvert_exporter": "python",
   "pygments_lexer": "ipython3",
   "version": "3.8.3"
  }
 },
 "nbformat": 4,
 "nbformat_minor": 4
}
