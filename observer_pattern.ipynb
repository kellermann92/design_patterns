{
 "cells": [
  {
   "cell_type": "markdown",
   "metadata": {},
   "source": [
    "-----------------------\n",
    "# **Source**\n",
    "\n",
    "Content from [Learning Python Design Patterns (Chetan Giridhar, 2016)](https://www.amazon.com.br/dp/B018XYKNOM/ref=dp-kindle-redirect?_encoding=UTF8&btkr=1).\n",
    "\n",
    "-----------------------"
   ]
  },
  {
   "cell_type": "markdown",
   "metadata": {},
   "source": [
    "--------\n",
    "# **Observer pattern**\n",
    "\n",
    "- Is one kind of  *behavioral pattern*.\n",
    "- In this pattern, an object (*subject*) maintains a list of all dependents (*obsevers*) so that the subject can notify all observers about changes that undergoes using any of the methods defined by the observer.\n",
    "\n",
    "- In the world of distributed applications, multiple services interact with each other to perform a larger operation that a user wants to achieve. Services can perform multiple operations, but the operation they perform is directly or heavily dependent on the state of the objects of the service that it interacts with.\n",
    "\n",
    "\n",
    "- Consider a use case for a user registration where the user service is responsible for user operations on the website and another service called \"e-mail service\" that observes the user's state and send e-mails for it depending on user's actions.\n",
    "    - If there is a core service in some application on which many other services are dependent, the core service becomes the subject that has to be observed/monitored because of its possible changes. The observer role is responsible to *observe* (~~really?~~) this changes when they happen and then perform some action based on the observed result.\n",
    "    \n",
    "    \n",
    "- In general, the main intentions of the observer pattern are:\n",
    "    - It defines a one-to-many dependency between objects so that any change in one object will be notified to the other dependent objects automatically.\n",
    "    - It encapsulates the core component of the subject.\n",
    "    \n",
    "    \n",
    "- The main applications of this kind of pattern are common in the following scenarios:\n",
    "    - Implementation of event service in distributed systems.\n",
    "    - Framework for a news agency.\n",
    "    - Stock market"
   ]
  },
  {
   "cell_type": "markdown",
   "metadata": {},
   "source": [
    "--------------------------------\n",
    "# **Implementation**"
   ]
  },
  {
   "cell_type": "code",
   "execution_count": 1,
   "metadata": {
    "execution": {
     "iopub.execute_input": "2021-02-14T17:53:55.463811Z",
     "iopub.status.busy": "2021-02-14T17:53:55.463491Z",
     "iopub.status.idle": "2021-02-14T17:53:55.481682Z",
     "shell.execute_reply": "2021-02-14T17:53:55.476101Z",
     "shell.execute_reply.started": "2021-02-14T17:53:55.463767Z"
    }
   },
   "outputs": [
    {
     "name": "stdout",
     "output_type": "stream",
     "text": [
      "Observer1: Got ('Notification',) from <__main__.Subject object at 0x7f001c1ddc70>.\n",
      "Observer2: Got ('Notification',) from <__main__.Subject object at 0x7f001c1ddc70>.\n"
     ]
    }
   ],
   "source": [
    "class Subject:\n",
    "    def __init__(self):\n",
    "        self.__observers = []\n",
    "        \n",
    "    def register(self, observer):\n",
    "        self.__observers.append(observer)\n",
    "        \n",
    "    def notifyAll(self, *args, **kwargs):\n",
    "        for observer in self.__observers:\n",
    "            observer.notify(self, *args, **kwargs)\n",
    "            \n",
    "class Observer1:\n",
    "    \n",
    "    def __init__(self, subject):\n",
    "        subject.register(self)\n",
    "        \n",
    "    def notify(self, subject, *args):\n",
    "        print(f'{type(self).__name__}: Got {args} from {subject}.')\n",
    "        \n",
    "class Observer2:\n",
    "    \n",
    "    def __init__(self, subject):\n",
    "        subject.register(self)\n",
    "        \n",
    "    def notify(self, subject, *args):\n",
    "        print(f'{type(self).__name__}: Got {args} from {subject}.')\n",
    "        \n",
    "subject = Subject()\n",
    "obs1 = Observer1(subject)\n",
    "obs2 = Observer2(subject)\n",
    "\n",
    "subject.notifyAll('Notification')"
   ]
  },
  {
   "cell_type": "markdown",
   "metadata": {},
   "source": [
    "------------------\n",
    "## **Observer pattern UML**\n",
    "\n",
    "- As discussed observer design pattern has two main actors, but we will see three in the UML.\n",
    "    - *Subject:* aware of the *Observer*. This actor has methods such as *register()* and *deregister()* used by *Observers* to register themselves with *Subject* class. One *Subject* can handle multiple observers.\n",
    "    \n",
    "    - *Observer:* defines an interface for objects that are observing the *Subject*. It defines methods that need to be implemented by the *Observer* to get notified of changes in the *Subject*.\n",
    "    \n",
    "    - *ConcreteObserver:* stores the state that should be consistent with that of the *Subject*'s state. It implements the *Observer* interface to keep the state consistent with changes in the *Subject*.\n",
    "![Observer pattern UML](images/observer_pattern.jpg)"
   ]
  },
  {
   "cell_type": "markdown",
   "metadata": {},
   "source": [
    "--------\n",
    "# **Observer pattern in real world**\n",
    "\n",
    "- In this example we will take up a news agency case to get a taste of real-world scenario for the Observer pattern. \n",
    "- News agencies typically gather news from various locations and publish them to the subscribers. Let's look at the design considerations for this use case.\n",
    "    - Information are sent/received in real time. So the agency should be able to publish the news as soon as possible\n",
    "    - The news can be sent in different channels, such as SMS, mobile, e-mail and so on. And we need to be able to add a new type of subscriber if we add another kind of channel.\n",
    "    \n",
    "    \n",
    "### **Subject design:**\n",
    "- **Subject** will be the class **NewsPublisher**.\n",
    "- **NewsPublisher** provides you with an interface so that subscribes can work with it.\n",
    "- The *attach()* method is used by the **Observer** to subscribe with **NewsPublisher** and *detach()* methods you unsubscribe the **Observer**.\n",
    "- The *subscriber()* method returns the list of all subscribers wit in **NewsPublisher**.\n",
    "- The *addNews()* method is used by publisher to create news and *getNews()* return the latest news, which is then notified to the *Observer*.\n"
   ]
  },
  {
   "cell_type": "code",
   "execution_count": 2,
   "metadata": {
    "execution": {
     "iopub.execute_input": "2021-02-14T17:53:55.485766Z",
     "iopub.status.busy": "2021-02-14T17:53:55.485021Z",
     "iopub.status.idle": "2021-02-14T17:53:55.513549Z",
     "shell.execute_reply": "2021-02-14T17:53:55.507664Z",
     "shell.execute_reply.started": "2021-02-14T17:53:55.485609Z"
    }
   },
   "outputs": [],
   "source": [
    "class NewsPublisher:\n",
    "    def __init__(self):\n",
    "        self.__subscribers = []\n",
    "        self.latestNews = None\n",
    "        \n",
    "    def attach(self, subscriber):\n",
    "        self.__subscribers.append(subscriber)\n",
    "        \n",
    "    def detach(self):\n",
    "        return self.__subscribers.pop()\n",
    "    \n",
    "    def subscribers(self):\n",
    "        return [type(x).__name__ for x in self.__subscribers]\n",
    "    \n",
    "    def notifySubscribers(self):\n",
    "        for sub in self.__subscribers:\n",
    "            sub.update()\n",
    "            \n",
    "    def addNews(self, news):\n",
    "        self.__latestNews = news\n",
    "        \n",
    "    def getNews(self):\n",
    "        return f'Got news! {self.__latestNews}'\n",
    "        \n",
    "        "
   ]
  },
  {
   "cell_type": "markdown",
   "metadata": {},
   "source": [
    "### **Observer interface design:**\n",
    "\n",
    "- The **Observer** is **Subscriber**. It's also an abstract base class and represents any other **ConcreteObserver**.\n",
    "- **Subscriber** has the *update()* method that needs to be implemented by **ConcreteObservers**.\n",
    "- The *update()* method is implemented by **ConcreteObserver** so they get notified by the **Subject** (**NewsPublishers**) about any news getting published.\n"
   ]
  },
  {
   "cell_type": "code",
   "execution_count": 3,
   "metadata": {
    "execution": {
     "iopub.execute_input": "2021-02-14T17:53:55.519868Z",
     "iopub.status.busy": "2021-02-14T17:53:55.519379Z",
     "iopub.status.idle": "2021-02-14T17:53:55.530569Z",
     "shell.execute_reply": "2021-02-14T17:53:55.525942Z",
     "shell.execute_reply.started": "2021-02-14T17:53:55.519795Z"
    }
   },
   "outputs": [],
   "source": [
    "from abc import ABCMeta, abstractmethod\n",
    "\n",
    "class Subscriber(metaclass=ABCMeta):\n",
    "    @abstractmethod\n",
    "    def update(self):\n",
    "        pass"
   ]
  },
  {
   "cell_type": "markdown",
   "metadata": {},
   "source": [
    "### **ConcreteObserver design:** \n",
    "\n",
    "- We have two main observers: **EmailSubscriber** and **SMSSubscriber**. They will implement the subscribe interface.\n",
    "- In addition to these concrete observers we can have a generic **AnyOtherObserver** observer to demonstrate the loose coupling of observers in the subject.\n",
    "- The *\\_\\_init\\_\\_()* method of each **ConcreteObserver** registers them with **NewsPublisher** with the *attach()* method.\n",
    "- The *update()* method of **ConcreteObserver** is used internally by **NewsPublisher** to notify about the news additions."
   ]
  },
  {
   "cell_type": "code",
   "execution_count": 4,
   "metadata": {
    "execution": {
     "iopub.execute_input": "2021-02-14T17:53:55.541779Z",
     "iopub.status.busy": "2021-02-14T17:53:55.540377Z",
     "iopub.status.idle": "2021-02-14T17:53:55.562662Z",
     "shell.execute_reply": "2021-02-14T17:53:55.560040Z",
     "shell.execute_reply.started": "2021-02-14T17:53:55.541559Z"
    }
   },
   "outputs": [],
   "source": [
    "class SMSSubscriber:\n",
    "    def __init__(self, publisher):\n",
    "        self.publisher = publisher\n",
    "        self.publisher.attach(self)\n",
    "        \n",
    "    def update(self):\n",
    "        print(f'{type(self).__name__}, {self.publisher.getNews()}')\n",
    "        \n",
    "class EmailSubscriber:\n",
    "    def __init__(self, publisher):\n",
    "        self.publisher = publisher\n",
    "        self.publisher.attach(self)\n",
    "        \n",
    "    def update(self):\n",
    "        print(f'{type(self).__name__}, {self.publisher.getNews()}')   \n",
    "        \n",
    "        \n",
    "class AnyOtherSubscriber:\n",
    "    def __init__(self, publisher):\n",
    "        self.publisher = publisher\n",
    "        self.publisher.attach(self)\n",
    "        \n",
    "    def update(self):\n",
    "        print(f'{type(self).__name__}, {self.publisher.getNews()}')\n",
    "    "
   ]
  },
  {
   "cell_type": "markdown",
   "metadata": {},
   "source": [
    "### **What is expected?**\n",
    "- The client should create an object for **NewsPublisher** that is used by **ConcreteObservers** for many operations.\n",
    "\n",
    "- **SMSSubscriber**, **EmailSubscriber** and **AnyOtherSubscriber** classes are initialized with publisher objects.\n",
    "\n",
    "- In the **ConcreteObserver** we will use the *\\_\\_init\\_\\_()* method to internally use the *attach()* method of **NewsPublisher** to register itself for news updates.\n",
    "\n",
    "- We then print the list of all the subscribers (**ConcreteObservers**) that got registered with the **Subject**.\n",
    "\n",
    "- The object of **NewsPublisher** (*news_publisher*) is then used to create news with the *addNews()* method.\n",
    "\n",
    "- The *notifySubscribers()* method of **NewsPublisher** is used to notify all subscriber of the news addition. The *notifySubscribers()* method internally calls the *update()* method implemented by **ConcreteObserver** so that they get the latest news.\n",
    "\n",
    "- **NewsPublisher** also has the *detach()* method to remove the subscriber from the list of subscribers."
   ]
  },
  {
   "cell_type": "code",
   "execution_count": 5,
   "metadata": {
    "execution": {
     "iopub.execute_input": "2021-02-14T17:53:55.567567Z",
     "iopub.status.busy": "2021-02-14T17:53:55.566632Z",
     "iopub.status.idle": "2021-02-14T17:53:55.586213Z",
     "shell.execute_reply": "2021-02-14T17:53:55.584628Z",
     "shell.execute_reply.started": "2021-02-14T17:53:55.567413Z"
    }
   },
   "outputs": [
    {
     "name": "stdout",
     "output_type": "stream",
     "text": [
      "Subscribers: ['SMSSubscriber', 'EmailSubscriber', 'AnyOtherSubscriber']\n",
      "SMSSubscriber, Got news! HelloWorld!\n",
      "EmailSubscriber, Got news! HelloWorld!\n",
      "AnyOtherSubscriber, Got news! HelloWorld!\n",
      "Detached AnyOtherSubscriber\n",
      "Subscribers: <class 'list'>\n",
      "SMSSubscriber, Got news! My second News!!!\n",
      "EmailSubscriber, Got news! My second News!!!\n"
     ]
    }
   ],
   "source": [
    "if __name__ == '__main__':\n",
    "    news_publisher = NewsPublisher()\n",
    "    \n",
    "    for subs in [SMSSubscriber, EmailSubscriber, AnyOtherSubscriber]:\n",
    "        subs(news_publisher)\n",
    "    print(f'Subscribers: {news_publisher.subscribers()}')\n",
    "        \n",
    "    news_publisher.addNews('HelloWorld!')\n",
    "    news_publisher.notifySubscribers()\n",
    "        \n",
    "    print(f'Detached {type(news_publisher.detach()).__name__}')\n",
    "    print(f'Subscribers: {type(news_publisher.subscribers())}')\n",
    "        \n",
    "        \n",
    "    news_publisher.addNews('My second News!!!')\n",
    "    news_publisher.notifySubscribers()\n"
   ]
  },
  {
   "cell_type": "markdown",
   "metadata": {},
   "source": [
    "---\n",
    "# **The observer pattern methods**\n",
    "- There are two different ways of notifying the **Observer** about the changes that happen in the **Subject**. We can classify them as push or pull models.\n",
    "\n",
    "\n",
    "## **Pull model**\n",
    "- **Observers** play an active role as follows:\n",
    "    - The **Subject** broadcasts to all the registered **Observers** when there is any change.\n",
    "    - The **Observer** is responsible for getting the changes or pulling data from the subscriber when there is an amendment.\n",
    "    - The pull model is ineffective as it involves two steps:\n",
    "        - **The first:** where the **Subject** notifies the **Observer**.\n",
    "        - **The second:** where the **Observer** pulls the required data from **Subject**.\n",
    "        \n",
    "## **Push model**\n",
    "- **Subject** plays active role as follows:\n",
    "    - The changes are pushed by the **Subject** to the **Observer**.\n",
    "    - The **Subject** can send detailed information to the **Observer** even if is not needed. This can result in sluggish response times when a large amount of data is sent by the **Subject** bit is never actually used by the **Observer**.\n",
    "    - Only the required data is sent from the **Subject** to improve performance.\n",
    "    "
   ]
  },
  {
   "cell_type": "markdown",
   "metadata": {},
   "source": [
    "---\n",
    "# **Loose coupling and the observer pattern**\n",
    "\n",
    "- Loose coupling is an important design principle that should be used in software applications. The main purpose of loose coupling is to strive for loosely-coupled designs between objects that intereact with each other. Coupling refers to the degree of knoowledge that one object has about the other that interacts with it.\n",
    "\n",
    "- Loosely-coupled design allow us to build flexible object-oriented systems that can handle changes because they reduce the dependency between multiple objects.\n",
    "\n",
    "- The lose coupling architecture ensures the following features:\n",
    "    - It reduces the risk that a change made within one element might create an unannticipated impact on the other elements.\n",
    "    - It simplifies testing, maintenance and troubleshooting.\n",
    "    - The system can be easily broken down into definable elements.\n",
    "    \n",
    "- The observer pattern provides you with an object design where the **Subject** and the **Observer** are loosely coupled. The following points will explain this better:\n",
    "    - The only thing that the **Subject** knows about an **Observer** is that it implements a certain interface. It need not know the **ConcreteObserver** class.\n",
    "    - Any new **Observer** can be added at any point in time.\n",
    "    - The **Subject** need not be modified at all to add any new **Observer**. In the example we sall that **AnyOtherObserver** can be added or removed without any changes in the **Subject**.\n",
    "    - **Subjects** or **Observers** are not tied up and can be used independently of each other. So the **Observer** can be reused anywhere else, if needed.\n",
    "    - Changes in the **Subject** or **Observer** will not affect each other. As both are independent or loosely coupled, they are free to make their own changes.\n",
    "        "
   ]
  },
  {
   "cell_type": "markdown",
   "metadata": {
    "execution": {
     "iopub.execute_input": "2021-02-14T17:53:55.598272Z",
     "iopub.status.busy": "2021-02-14T17:53:55.598011Z",
     "iopub.status.idle": "2021-02-14T17:53:55.608713Z",
     "shell.execute_reply": "2021-02-14T17:53:55.607101Z",
     "shell.execute_reply.started": "2021-02-14T17:53:55.598236Z"
    }
   },
   "source": [
    "---\n",
    "# **Advantages and disadvantages**\n",
    "\n",
    "- **<font color = blue> Advantages: </font>**\n",
    "    - It supports the principle of loose coupling between objects that interact with each other.\n",
    "    - It allows sending data to other objects effectively without any change in the **Subject** or **Observer** classes.\n",
    "    - **Observers** can be added or removed at any point in time.\n",
    "\n",
    "- **<font color = red> Advantages: </font>**\n",
    "    - The **Observer** interface has to be implemented by **ConcreteObserver**, which involves inheritance. There is no option for composition as the **Observer** interface can be instantiated.\n",
    "    - If not correctly implemented, the **Observer** can add complexity and lead to inadvertent performance issues.\n",
    "    - In software application, notifications can sometimes be undependable and result in race conditions or inconsistency.    "
   ]
  },
  {
   "cell_type": "markdown",
   "metadata": {},
   "source": [
    "---\n",
    "# **FAQ**\n",
    "\n",
    "**Q1** Can there be many **Subjects** and **Observers**?\n",
    "- Yes but to work **Observers** need to be notified of changes in their respectives **Subscribers**.\n",
    "\n",
    "**Q2** Who is responsible for triggering the update?\n",
    "- Remember that we have the push and pull models. Typically the **Subject** triggers the update method when there are changes (*push*) or the **Observer** does this (*pull*)\n",
    "\n",
    "**Q3** Can **Subject** or **Observer** be used for access for any other use case?\n",
    "- Yes. That is the power here."
   ]
  }
 ],
 "metadata": {
  "kernelspec": {
   "display_name": "Python 3",
   "language": "python",
   "name": "python3"
  },
  "language_info": {
   "codemirror_mode": {
    "name": "ipython",
    "version": 3
   },
   "file_extension": ".py",
   "mimetype": "text/x-python",
   "name": "python",
   "nbconvert_exporter": "python",
   "pygments_lexer": "ipython3",
   "version": "3.8.3"
  }
 },
 "nbformat": 4,
 "nbformat_minor": 4
}
