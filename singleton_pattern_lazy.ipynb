{
 "cells": [
  {
   "cell_type": "markdown",
   "metadata": {},
   "source": [
    "-----------------------\n",
    "# **Source**\n",
    "\n",
    "Content from [Learning Python Design Patterns (Chetan Giridhar, 2016)](https://www.amazon.com.br/dp/B018XYKNOM/ref=dp-kindle-redirect?_encoding=UTF8&btkr=1).\n",
    "\n",
    "-----------------------"
   ]
  },
  {
   "cell_type": "markdown",
   "metadata": {},
   "source": [
    "------------------------\n",
    "# **Singleton pattern with lazy instantiation**\n",
    "\n",
    "- Implementation of an health check servicesuch as Nagios. The class maintain a list of servers against which the health check needs to run. If a server is removed from this list the health system should detect it and remove it from the available servers list.\n",
    "\n",
    "- OK. I never heard about <a href = https://nagiosplugin.readthedocs.io/en/stable/readme.html>Nagios</a>... I'll leave this here and then looking for know more about.\n"
   ]
  },
  {
   "cell_type": "code",
   "execution_count": 1,
   "metadata": {
    "execution": {
     "iopub.execute_input": "2021-01-25T13:04:08.085634Z",
     "iopub.status.busy": "2021-01-25T13:04:08.084116Z",
     "iopub.status.idle": "2021-01-25T13:04:08.124009Z",
     "shell.execute_reply": "2021-01-25T13:04:08.120555Z",
     "shell.execute_reply.started": "2021-01-25T13:04:08.085386Z"
    }
   },
   "outputs": [],
   "source": [
    "class HealthCheck:\n",
    "    _instance = None\n",
    "    \n",
    "    def __new__(cls, *args, **kwargs):\n",
    "        if not HealthCheck._instance:\n",
    "            HealthCheck._instance = super(HealthCheck, cls).__new__(cls, *args, **kwargs)\n",
    "            return HealthCheck._instance\n",
    "        else:\n",
    "            return HealthCheck._instance\n",
    "        \n",
    "    def __init__(self):\n",
    "        self._servers = []\n",
    "        \n",
    "    def addServer(self):\n",
    "        self._servers.append('Server 1')\n",
    "        self._servers.append('Server 2')\n",
    "        self._servers.append('Server 3')\n",
    "        self._servers.append('Server 4')\n",
    "        \n",
    "    def changeServer(self):\n",
    "        self._servers.pop()\n",
    "        self._servers.append('Server 5')"
   ]
  },
  {
   "cell_type": "markdown",
   "metadata": {},
   "source": [
    "---------------------\n",
    "## Testing..."
   ]
  },
  {
   "cell_type": "code",
   "execution_count": 2,
   "metadata": {
    "execution": {
     "iopub.execute_input": "2021-01-25T13:04:09.318867Z",
     "iopub.status.busy": "2021-01-25T13:04:09.315562Z",
     "iopub.status.idle": "2021-01-25T13:04:09.345675Z",
     "shell.execute_reply": "2021-01-25T13:04:09.340068Z",
     "shell.execute_reply.started": "2021-01-25T13:04:09.318483Z"
    }
   },
   "outputs": [],
   "source": [
    "hc1 = HealthCheck()\n",
    "hc2 = HealthCheck()"
   ]
  },
  {
   "cell_type": "code",
   "execution_count": 3,
   "metadata": {
    "execution": {
     "iopub.execute_input": "2021-01-25T13:04:10.362537Z",
     "iopub.status.busy": "2021-01-25T13:04:10.361015Z",
     "iopub.status.idle": "2021-01-25T13:04:10.403445Z",
     "shell.execute_reply": "2021-01-25T13:04:10.397751Z",
     "shell.execute_reply.started": "2021-01-25T13:04:10.362359Z"
    }
   },
   "outputs": [
    {
     "data": {
      "text/plain": [
       "True"
      ]
     },
     "execution_count": 3,
     "metadata": {},
     "output_type": "execute_result"
    }
   ],
   "source": [
    "hc1 is hc2"
   ]
  },
  {
   "cell_type": "code",
   "execution_count": 4,
   "metadata": {
    "execution": {
     "iopub.execute_input": "2021-01-25T13:04:13.980318Z",
     "iopub.status.busy": "2021-01-25T13:04:13.979374Z",
     "iopub.status.idle": "2021-01-25T13:04:13.996996Z",
     "shell.execute_reply": "2021-01-25T13:04:13.994165Z",
     "shell.execute_reply.started": "2021-01-25T13:04:13.980226Z"
    }
   },
   "outputs": [
    {
     "data": {
      "text/plain": [
       "(140586456968256, 140586456968256)"
      ]
     },
     "execution_count": 4,
     "metadata": {},
     "output_type": "execute_result"
    }
   ],
   "source": [
    "id(hc1), id(hc2)"
   ]
  },
  {
   "cell_type": "code",
   "execution_count": 5,
   "metadata": {
    "execution": {
     "iopub.execute_input": "2021-01-25T13:04:20.737338Z",
     "iopub.status.busy": "2021-01-25T13:04:20.735806Z",
     "iopub.status.idle": "2021-01-25T13:04:20.786499Z",
     "shell.execute_reply": "2021-01-25T13:04:20.777987Z",
     "shell.execute_reply.started": "2021-01-25T13:04:20.737203Z"
    }
   },
   "outputs": [
    {
     "name": "stdout",
     "output_type": "stream",
     "text": [
      "Schedule health check for servers (1)...\n",
      "Checking Server 1\n",
      "Checking Server 2\n",
      "Checking Server 3\n",
      "Checking Server 4\n"
     ]
    },
    {
     "data": {
      "text/plain": [
       "[None, None, None, None]"
      ]
     },
     "execution_count": 5,
     "metadata": {},
     "output_type": "execute_result"
    }
   ],
   "source": [
    "hc1.addServer()\n",
    "print('Schedule health check for servers (1)...')\n",
    "[print(f'Checking {x}') for x in hc1._servers]"
   ]
  },
  {
   "cell_type": "code",
   "execution_count": 6,
   "metadata": {
    "execution": {
     "iopub.execute_input": "2021-01-25T13:04:21.881934Z",
     "iopub.status.busy": "2021-01-25T13:04:21.880956Z",
     "iopub.status.idle": "2021-01-25T13:04:21.904327Z",
     "shell.execute_reply": "2021-01-25T13:04:21.901298Z",
     "shell.execute_reply.started": "2021-01-25T13:04:21.881833Z"
    }
   },
   "outputs": [
    {
     "name": "stdout",
     "output_type": "stream",
     "text": [
      "Schedule health check for servers (2)...\n",
      "Checking Server 1\n",
      "Checking Server 2\n",
      "Checking Server 3\n",
      "Checking Server 5\n"
     ]
    },
    {
     "data": {
      "text/plain": [
       "[None, None, None, None]"
      ]
     },
     "execution_count": 6,
     "metadata": {},
     "output_type": "execute_result"
    }
   ],
   "source": [
    "hc2.changeServer()\n",
    "print('Schedule health check for servers (2)...')\n",
    "[print(f'Checking {x}') for x in hc2._servers]"
   ]
  }
 ],
 "metadata": {
  "kernelspec": {
   "display_name": "Python 3",
   "language": "python",
   "name": "python3"
  },
  "language_info": {
   "codemirror_mode": {
    "name": "ipython",
    "version": 3
   },
   "file_extension": ".py",
   "mimetype": "text/x-python",
   "name": "python",
   "nbconvert_exporter": "python",
   "pygments_lexer": "ipython3",
   "version": "3.8.3"
  }
 },
 "nbformat": 4,
 "nbformat_minor": 4
}
